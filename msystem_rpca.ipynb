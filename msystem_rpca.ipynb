{
 "cells": [
  {
   "cell_type": "markdown",
   "metadata": {},
   "source": [
    "# Add phylogenetic information to Abundance data improve sample clustering\n",
    "\n",
    "coda ande data from paper: Compositionally Aware Phylogenetic Beta-Diversity Measures Better Resolve Microbiomes Associated with Phenotype [mSystems]\n",
    "\n",
    "github link: https://github.com/cameronmartino/phylo-rclr-benchmarking"
   ]
  },
  {
   "cell_type": "code",
   "execution_count": 1,
   "metadata": {},
   "outputs": [],
   "source": [
    "import biom\n",
    "import pandas as pd\n",
    "import numpy as np\n",
    "import qiime2 as q2\n",
    "import skbio\n",
    "from skbio import TreeNode\n",
    "from skbio.stats.distance import permanova\n",
    "from skbio import DistanceMatrix\n",
    "from biom import Table\n",
    "from qiime2.plugins.phylogeny.methods import filter_table\n",
    "from qiime2.plugins.feature_table.methods import rarefy\n",
    "\n",
    "%matplotlib inline"
   ]
  },
  {
   "cell_type": "code",
   "execution_count": 2,
   "metadata": {},
   "outputs": [],
   "source": [
    "from rpca import rpca_table,rclr\n",
    "from preprocessing import fast_unifrac,matrix_rclr"
   ]
  },
  {
   "cell_type": "code",
   "execution_count": 3,
   "metadata": {},
   "outputs": [],
   "source": [
    "# import data\n",
    "table = q2.Artifact.import_data('FeatureTable[Frequency]',\n",
    "                                biom.load_table('/home/wangbin/DeepPhy/data/data_phyloRPCA/urbmerged.biom'))\n",
    "metadata = q2.Metadata.load('/home/wangbin/DeepPhy/data/data_phyloRPCA/10333_20190808-130957.txt')\n",
    "tree = q2.Artifact.load('/home/wangbin/DeepPhy/data/data_phyloRPCA/tree.qza')\n",
    "table = filter_table(table, tree).filtered_table\n",
    "taxonomy = q2.Artifact.load('/home/wangbin/DeepPhy/data/data_phyloRPCA/taxonomy.qza')"
   ]
  },
  {
   "cell_type": "code",
   "execution_count": 4,
   "metadata": {},
   "outputs": [
    {
     "data": {
      "text/plain": [
       "210328 x 2226 <class 'biom.table.Table'> with 1312813 nonzero entries (0% dense)"
      ]
     },
     "execution_count": 4,
     "metadata": {},
     "output_type": "execute_result"
    }
   ],
   "source": [
    "table.view(biom.Table)"
   ]
  },
  {
   "cell_type": "code",
   "execution_count": 5,
   "metadata": {},
   "outputs": [
    {
     "data": {
      "text/plain": [
       "1443 x 164 <class 'biom.table.Table'> with 60317 nonzero entries (25% dense)"
      ]
     },
     "execution_count": 5,
     "metadata": {},
     "output_type": "execute_result"
    }
   ],
   "source": [
    "## filter and preprocess data\n",
    "# remove controls\n",
    "mf = metadata.to_dataframe()\n",
    "mf = mf[mf.host_body_site == 'UBERON:skin of hand']\n",
    "mf = mf[mf.village != 'Puerto Almendras']\n",
    "mf = mf[mf.house_number.isin([k for k, v in mf.house_number.value_counts().items()\n",
    "                              if v >= 3])]\n",
    "\n",
    "# keep shared IDs\n",
    "bt = table.view(biom.Table)\n",
    "shared_ = set(bt.ids()) & set(mf.index)\n",
    "bt = bt.filter(shared_)\n",
    "mf = mf.reindex(shared_)\n",
    "metadata = q2.Metadata(mf)\n",
    "\n",
    "# filter out zero sums\n",
    "n_features, n_samples = bt.shape\n",
    "# filter features by N samples presence\n",
    "min_feature_frequency = 10\n",
    "def frequency_filter(val, id_, md):\n",
    "    return (np.sum(val > 0) / n_samples) > (min_feature_frequency / 100)\n",
    "min_feature_count = 10\n",
    "def observation_filter(val, id_, md):\n",
    "        return sum(val) > min_feature_count\n",
    "bt = bt.filter(observation_filter, axis='observation')\n",
    "#bt = bt.filter(bt.ids('observation')[(bt.sum('observation') > 0)], axis='observation')\n",
    "bt = bt.filter(frequency_filter, axis='observation')\n",
    "bt = bt.filter(bt.ids()[(bt.sum('sample') > 0)])\n",
    "\n",
    "# re-import\n",
    "table = q2.Artifact.import_data('FeatureTable[Frequency]', bt)\n",
    "bt"
   ]
  },
  {
   "cell_type": "code",
   "execution_count": 6,
   "metadata": {},
   "outputs": [
    {
     "data": {
      "text/html": [
       "<div>\n",
       "<style scoped>\n",
       "    .dataframe tbody tr th:only-of-type {\n",
       "        vertical-align: middle;\n",
       "    }\n",
       "\n",
       "    .dataframe tbody tr th {\n",
       "        vertical-align: top;\n",
       "    }\n",
       "\n",
       "    .dataframe thead th {\n",
       "        text-align: right;\n",
       "    }\n",
       "</style>\n",
       "<table border=\"1\" class=\"dataframe\">\n",
       "  <thead>\n",
       "    <tr style=\"text-align: right;\">\n",
       "      <th></th>\n",
       "      <th>ac_sampled_room</th>\n",
       "      <th>accult_score</th>\n",
       "      <th>analysis_name</th>\n",
       "      <th>animals_in_house</th>\n",
       "      <th>anonymized_name</th>\n",
       "      <th>carbon_dioxide_inside</th>\n",
       "      <th>cats</th>\n",
       "      <th>cleaning_frequency</th>\n",
       "      <th>closed_trash</th>\n",
       "      <th>collection_date</th>\n",
       "      <th>...</th>\n",
       "      <th>temp_outside_house</th>\n",
       "      <th>title</th>\n",
       "      <th>use_soaps</th>\n",
       "      <th>village</th>\n",
       "      <th>washer</th>\n",
       "      <th>water_source</th>\n",
       "      <th>wind_speed_outside</th>\n",
       "      <th>wireless</th>\n",
       "      <th>years_house_inhabited</th>\n",
       "      <th>zone</th>\n",
       "    </tr>\n",
       "    <tr>\n",
       "      <th>sample_name</th>\n",
       "      <th></th>\n",
       "      <th></th>\n",
       "      <th></th>\n",
       "      <th></th>\n",
       "      <th></th>\n",
       "      <th></th>\n",
       "      <th></th>\n",
       "      <th></th>\n",
       "      <th></th>\n",
       "      <th></th>\n",
       "      <th></th>\n",
       "      <th></th>\n",
       "      <th></th>\n",
       "      <th></th>\n",
       "      <th></th>\n",
       "      <th></th>\n",
       "      <th></th>\n",
       "      <th></th>\n",
       "      <th></th>\n",
       "      <th></th>\n",
       "      <th></th>\n",
       "    </tr>\n",
       "  </thead>\n",
       "  <tbody>\n",
       "    <tr>\n",
       "      <th>10333.Man.1810.huma</th>\n",
       "      <td>TRUE</td>\n",
       "      <td>28</td>\n",
       "      <td>Man.1810.huma</td>\n",
       "      <td>8</td>\n",
       "      <td>MG.1076</td>\n",
       "      <td>not provided</td>\n",
       "      <td>3</td>\n",
       "      <td>2</td>\n",
       "      <td>TRUE</td>\n",
       "      <td>9/5/12</td>\n",
       "      <td>...</td>\n",
       "      <td>NaN</td>\n",
       "      <td>Dominguez Sloan SAWesternization gradient</td>\n",
       "      <td>y</td>\n",
       "      <td>Manaus</td>\n",
       "      <td>TRUE</td>\n",
       "      <td>municipal</td>\n",
       "      <td>NaN</td>\n",
       "      <td>TRUE</td>\n",
       "      <td>12</td>\n",
       "      <td>S_o Jos_ I</td>\n",
       "    </tr>\n",
       "    <tr>\n",
       "      <th>10333.Manaus.3643.1313501</th>\n",
       "      <td>TRUE</td>\n",
       "      <td>6</td>\n",
       "      <td>Man.3643.huma</td>\n",
       "      <td>0</td>\n",
       "      <td>Manaus.3643</td>\n",
       "      <td>not provided</td>\n",
       "      <td>0</td>\n",
       "      <td>3x week</td>\n",
       "      <td>TRUE</td>\n",
       "      <td>12/14/13</td>\n",
       "      <td>...</td>\n",
       "      <td>NaN</td>\n",
       "      <td>Dominguez Sloan SAWesternization gradient</td>\n",
       "      <td>yes</td>\n",
       "      <td>Manaus</td>\n",
       "      <td>TRUE</td>\n",
       "      <td>municipal</td>\n",
       "      <td>NaN</td>\n",
       "      <td>TRUE</td>\n",
       "      <td>2</td>\n",
       "      <td>NaN</td>\n",
       "    </tr>\n",
       "    <tr>\n",
       "      <th>10333.Manaus.3668.1313378</th>\n",
       "      <td>TRUE</td>\n",
       "      <td>6</td>\n",
       "      <td>Man.3668.huma</td>\n",
       "      <td>0</td>\n",
       "      <td>Manaus.3668</td>\n",
       "      <td>not provided</td>\n",
       "      <td>0</td>\n",
       "      <td>3x week</td>\n",
       "      <td>TRUE</td>\n",
       "      <td>12/14/13</td>\n",
       "      <td>...</td>\n",
       "      <td>NaN</td>\n",
       "      <td>Dominguez Sloan SAWesternization gradient</td>\n",
       "      <td>yes</td>\n",
       "      <td>Manaus</td>\n",
       "      <td>TRUE</td>\n",
       "      <td>municipal</td>\n",
       "      <td>NaN</td>\n",
       "      <td>TRUE</td>\n",
       "      <td>2</td>\n",
       "      <td>NaN</td>\n",
       "    </tr>\n",
       "    <tr>\n",
       "      <th>10333.Che.103.huma</th>\n",
       "      <td>FALSE</td>\n",
       "      <td>0</td>\n",
       "      <td>Che.103.huma</td>\n",
       "      <td>1</td>\n",
       "      <td>MG.0006</td>\n",
       "      <td>449</td>\n",
       "      <td>0</td>\n",
       "      <td>0</td>\n",
       "      <td>FALSE</td>\n",
       "      <td>7/11/12</td>\n",
       "      <td>...</td>\n",
       "      <td>28</td>\n",
       "      <td>Dominguez Sloan SAWesternization gradient</td>\n",
       "      <td>NaN</td>\n",
       "      <td>Checherta</td>\n",
       "      <td>FALSE</td>\n",
       "      <td>spring</td>\n",
       "      <td>0.54</td>\n",
       "      <td>FALSE</td>\n",
       "      <td>17</td>\n",
       "      <td>Checherta</td>\n",
       "    </tr>\n",
       "    <tr>\n",
       "      <th>10333.Che.342.huma</th>\n",
       "      <td>FALSE</td>\n",
       "      <td>0</td>\n",
       "      <td>Che.342.huma</td>\n",
       "      <td>1</td>\n",
       "      <td>MG.0269</td>\n",
       "      <td>not provided</td>\n",
       "      <td>1</td>\n",
       "      <td>not provided</td>\n",
       "      <td>FALSE</td>\n",
       "      <td>7/12/12</td>\n",
       "      <td>...</td>\n",
       "      <td>NaN</td>\n",
       "      <td>Dominguez Sloan SAWesternization gradient</td>\n",
       "      <td>uses lime</td>\n",
       "      <td>Checherta</td>\n",
       "      <td>FALSE</td>\n",
       "      <td>spring</td>\n",
       "      <td>NaN</td>\n",
       "      <td>FALSE</td>\n",
       "      <td>2</td>\n",
       "      <td>Checherta</td>\n",
       "    </tr>\n",
       "    <tr>\n",
       "      <th>...</th>\n",
       "      <td>...</td>\n",
       "      <td>...</td>\n",
       "      <td>...</td>\n",
       "      <td>...</td>\n",
       "      <td>...</td>\n",
       "      <td>...</td>\n",
       "      <td>...</td>\n",
       "      <td>...</td>\n",
       "      <td>...</td>\n",
       "      <td>...</td>\n",
       "      <td>...</td>\n",
       "      <td>...</td>\n",
       "      <td>...</td>\n",
       "      <td>...</td>\n",
       "      <td>...</td>\n",
       "      <td>...</td>\n",
       "      <td>...</td>\n",
       "      <td>...</td>\n",
       "      <td>...</td>\n",
       "      <td>...</td>\n",
       "      <td>...</td>\n",
       "    </tr>\n",
       "    <tr>\n",
       "      <th>10333.Che.437.huma</th>\n",
       "      <td>FALSE</td>\n",
       "      <td>3</td>\n",
       "      <td>Che.437.huma</td>\n",
       "      <td>1</td>\n",
       "      <td>MG.0373</td>\n",
       "      <td>not provided</td>\n",
       "      <td>0</td>\n",
       "      <td>not provided</td>\n",
       "      <td>FALSE</td>\n",
       "      <td>7/12/12</td>\n",
       "      <td>...</td>\n",
       "      <td>NaN</td>\n",
       "      <td>Dominguez Sloan SAWesternization gradient</td>\n",
       "      <td>yes</td>\n",
       "      <td>Checherta</td>\n",
       "      <td>FALSE</td>\n",
       "      <td>spring</td>\n",
       "      <td>NaN</td>\n",
       "      <td>FALSE</td>\n",
       "      <td>0.08</td>\n",
       "      <td>Checherta</td>\n",
       "    </tr>\n",
       "    <tr>\n",
       "      <th>10333.Iqu.903.huma</th>\n",
       "      <td>not provided</td>\n",
       "      <td>22</td>\n",
       "      <td>Iqu.903.huma</td>\n",
       "      <td>1</td>\n",
       "      <td>MG.0794</td>\n",
       "      <td>445</td>\n",
       "      <td>1</td>\n",
       "      <td>daily</td>\n",
       "      <td>not provided</td>\n",
       "      <td>7/18/12</td>\n",
       "      <td>...</td>\n",
       "      <td>29</td>\n",
       "      <td>Dominguez Sloan SAWesternization gradient</td>\n",
       "      <td>yes</td>\n",
       "      <td>Iquitos</td>\n",
       "      <td>NaN</td>\n",
       "      <td>municipal</td>\n",
       "      <td>0.39</td>\n",
       "      <td>NaN</td>\n",
       "      <td>0.5</td>\n",
       "      <td>Pampachica</td>\n",
       "    </tr>\n",
       "    <tr>\n",
       "      <th>10333.Manaus.3156.1313836</th>\n",
       "      <td>FALSE</td>\n",
       "      <td>2</td>\n",
       "      <td>Man.3156.huma</td>\n",
       "      <td>1</td>\n",
       "      <td>Manaus.3156</td>\n",
       "      <td>not provided</td>\n",
       "      <td>0</td>\n",
       "      <td>daily</td>\n",
       "      <td>FALSE</td>\n",
       "      <td>12/9/13</td>\n",
       "      <td>...</td>\n",
       "      <td>NaN</td>\n",
       "      <td>Dominguez Sloan SAWesternization gradient</td>\n",
       "      <td>yes</td>\n",
       "      <td>Manaus</td>\n",
       "      <td>TRUE</td>\n",
       "      <td>municipal</td>\n",
       "      <td>NaN</td>\n",
       "      <td>FALSE</td>\n",
       "      <td>24</td>\n",
       "      <td>n</td>\n",
       "    </tr>\n",
       "    <tr>\n",
       "      <th>10333.Iqu.937.huma</th>\n",
       "      <td>not provided</td>\n",
       "      <td>22</td>\n",
       "      <td>Iqu.937.huma</td>\n",
       "      <td>1</td>\n",
       "      <td>MG.0828</td>\n",
       "      <td>445</td>\n",
       "      <td>1</td>\n",
       "      <td>daily</td>\n",
       "      <td>not provided</td>\n",
       "      <td>7/18/12</td>\n",
       "      <td>...</td>\n",
       "      <td>29</td>\n",
       "      <td>Dominguez Sloan SAWesternization gradient</td>\n",
       "      <td>yes</td>\n",
       "      <td>Iquitos</td>\n",
       "      <td>NaN</td>\n",
       "      <td>municipal</td>\n",
       "      <td>0.39</td>\n",
       "      <td>NaN</td>\n",
       "      <td>0.5</td>\n",
       "      <td>Pampachica</td>\n",
       "    </tr>\n",
       "    <tr>\n",
       "      <th>10333.Manaus.3457.1313376</th>\n",
       "      <td>FALSE</td>\n",
       "      <td>1</td>\n",
       "      <td>Man.3457.huma</td>\n",
       "      <td>0</td>\n",
       "      <td>Manaus.3457</td>\n",
       "      <td>not provided</td>\n",
       "      <td>0</td>\n",
       "      <td>daily</td>\n",
       "      <td>FALSE</td>\n",
       "      <td>12/13/13</td>\n",
       "      <td>...</td>\n",
       "      <td>NaN</td>\n",
       "      <td>Dominguez Sloan SAWesternization gradient</td>\n",
       "      <td>yes</td>\n",
       "      <td>Manaus</td>\n",
       "      <td>TRUE</td>\n",
       "      <td>municipal</td>\n",
       "      <td>NaN</td>\n",
       "      <td>FALSE</td>\n",
       "      <td>7</td>\n",
       "      <td>NaN</td>\n",
       "    </tr>\n",
       "  </tbody>\n",
       "</table>\n",
       "<p>164 rows × 81 columns</p>\n",
       "</div>"
      ],
      "text/plain": [
       "                          ac_sampled_room accult_score  analysis_name  \\\n",
       "sample_name                                                             \n",
       "10333.Man.1810.huma                  TRUE           28  Man.1810.huma   \n",
       "10333.Manaus.3643.1313501            TRUE            6  Man.3643.huma   \n",
       "10333.Manaus.3668.1313378            TRUE            6  Man.3668.huma   \n",
       "10333.Che.103.huma                  FALSE            0   Che.103.huma   \n",
       "10333.Che.342.huma                  FALSE            0   Che.342.huma   \n",
       "...                                   ...          ...            ...   \n",
       "10333.Che.437.huma                  FALSE            3   Che.437.huma   \n",
       "10333.Iqu.903.huma           not provided           22   Iqu.903.huma   \n",
       "10333.Manaus.3156.1313836           FALSE            2  Man.3156.huma   \n",
       "10333.Iqu.937.huma           not provided           22   Iqu.937.huma   \n",
       "10333.Manaus.3457.1313376           FALSE            1  Man.3457.huma   \n",
       "\n",
       "                          animals_in_house anonymized_name  \\\n",
       "sample_name                                                  \n",
       "10333.Man.1810.huma                      8         MG.1076   \n",
       "10333.Manaus.3643.1313501                0     Manaus.3643   \n",
       "10333.Manaus.3668.1313378                0     Manaus.3668   \n",
       "10333.Che.103.huma                       1         MG.0006   \n",
       "10333.Che.342.huma                       1         MG.0269   \n",
       "...                                    ...             ...   \n",
       "10333.Che.437.huma                       1         MG.0373   \n",
       "10333.Iqu.903.huma                       1         MG.0794   \n",
       "10333.Manaus.3156.1313836                1     Manaus.3156   \n",
       "10333.Iqu.937.huma                       1         MG.0828   \n",
       "10333.Manaus.3457.1313376                0     Manaus.3457   \n",
       "\n",
       "                          carbon_dioxide_inside cats cleaning_frequency  \\\n",
       "sample_name                                                               \n",
       "10333.Man.1810.huma                not provided    3                  2   \n",
       "10333.Manaus.3643.1313501          not provided    0            3x week   \n",
       "10333.Manaus.3668.1313378          not provided    0            3x week   \n",
       "10333.Che.103.huma                          449    0                  0   \n",
       "10333.Che.342.huma                 not provided    1       not provided   \n",
       "...                                         ...  ...                ...   \n",
       "10333.Che.437.huma                 not provided    0       not provided   \n",
       "10333.Iqu.903.huma                          445    1              daily   \n",
       "10333.Manaus.3156.1313836          not provided    0              daily   \n",
       "10333.Iqu.937.huma                          445    1              daily   \n",
       "10333.Manaus.3457.1313376          not provided    0              daily   \n",
       "\n",
       "                           closed_trash collection_date  ...  \\\n",
       "sample_name                                              ...   \n",
       "10333.Man.1810.huma                TRUE          9/5/12  ...   \n",
       "10333.Manaus.3643.1313501          TRUE        12/14/13  ...   \n",
       "10333.Manaus.3668.1313378          TRUE        12/14/13  ...   \n",
       "10333.Che.103.huma                FALSE         7/11/12  ...   \n",
       "10333.Che.342.huma                FALSE         7/12/12  ...   \n",
       "...                                 ...             ...  ...   \n",
       "10333.Che.437.huma                FALSE         7/12/12  ...   \n",
       "10333.Iqu.903.huma         not provided         7/18/12  ...   \n",
       "10333.Manaus.3156.1313836         FALSE         12/9/13  ...   \n",
       "10333.Iqu.937.huma         not provided         7/18/12  ...   \n",
       "10333.Manaus.3457.1313376         FALSE        12/13/13  ...   \n",
       "\n",
       "                          temp_outside_house  \\\n",
       "sample_name                                    \n",
       "10333.Man.1810.huma                      NaN   \n",
       "10333.Manaus.3643.1313501                NaN   \n",
       "10333.Manaus.3668.1313378                NaN   \n",
       "10333.Che.103.huma                        28   \n",
       "10333.Che.342.huma                       NaN   \n",
       "...                                      ...   \n",
       "10333.Che.437.huma                       NaN   \n",
       "10333.Iqu.903.huma                        29   \n",
       "10333.Manaus.3156.1313836                NaN   \n",
       "10333.Iqu.937.huma                        29   \n",
       "10333.Manaus.3457.1313376                NaN   \n",
       "\n",
       "                                                               title  \\\n",
       "sample_name                                                            \n",
       "10333.Man.1810.huma        Dominguez Sloan SAWesternization gradient   \n",
       "10333.Manaus.3643.1313501  Dominguez Sloan SAWesternization gradient   \n",
       "10333.Manaus.3668.1313378  Dominguez Sloan SAWesternization gradient   \n",
       "10333.Che.103.huma         Dominguez Sloan SAWesternization gradient   \n",
       "10333.Che.342.huma         Dominguez Sloan SAWesternization gradient   \n",
       "...                                                              ...   \n",
       "10333.Che.437.huma         Dominguez Sloan SAWesternization gradient   \n",
       "10333.Iqu.903.huma         Dominguez Sloan SAWesternization gradient   \n",
       "10333.Manaus.3156.1313836  Dominguez Sloan SAWesternization gradient   \n",
       "10333.Iqu.937.huma         Dominguez Sloan SAWesternization gradient   \n",
       "10333.Manaus.3457.1313376  Dominguez Sloan SAWesternization gradient   \n",
       "\n",
       "                           use_soaps    village washer water_source  \\\n",
       "sample_name                                                           \n",
       "10333.Man.1810.huma                y     Manaus   TRUE    municipal   \n",
       "10333.Manaus.3643.1313501        yes     Manaus   TRUE    municipal   \n",
       "10333.Manaus.3668.1313378        yes     Manaus   TRUE    municipal   \n",
       "10333.Che.103.huma               NaN  Checherta  FALSE       spring   \n",
       "10333.Che.342.huma         uses lime  Checherta  FALSE       spring   \n",
       "...                              ...        ...    ...          ...   \n",
       "10333.Che.437.huma               yes  Checherta  FALSE       spring   \n",
       "10333.Iqu.903.huma               yes    Iquitos    NaN    municipal   \n",
       "10333.Manaus.3156.1313836        yes     Manaus   TRUE    municipal   \n",
       "10333.Iqu.937.huma               yes    Iquitos    NaN    municipal   \n",
       "10333.Manaus.3457.1313376        yes     Manaus   TRUE    municipal   \n",
       "\n",
       "                          wind_speed_outside wireless years_house_inhabited  \\\n",
       "sample_name                                                                   \n",
       "10333.Man.1810.huma                      NaN     TRUE                    12   \n",
       "10333.Manaus.3643.1313501                NaN     TRUE                     2   \n",
       "10333.Manaus.3668.1313378                NaN     TRUE                     2   \n",
       "10333.Che.103.huma                      0.54    FALSE                    17   \n",
       "10333.Che.342.huma                       NaN    FALSE                     2   \n",
       "...                                      ...      ...                   ...   \n",
       "10333.Che.437.huma                       NaN    FALSE                  0.08   \n",
       "10333.Iqu.903.huma                      0.39      NaN                   0.5   \n",
       "10333.Manaus.3156.1313836                NaN    FALSE                    24   \n",
       "10333.Iqu.937.huma                      0.39      NaN                   0.5   \n",
       "10333.Manaus.3457.1313376                NaN    FALSE                     7   \n",
       "\n",
       "                                 zone  \n",
       "sample_name                            \n",
       "10333.Man.1810.huma        S_o Jos_ I  \n",
       "10333.Manaus.3643.1313501         NaN  \n",
       "10333.Manaus.3668.1313378         NaN  \n",
       "10333.Che.103.huma          Checherta  \n",
       "10333.Che.342.huma          Checherta  \n",
       "...                               ...  \n",
       "10333.Che.437.huma          Checherta  \n",
       "10333.Iqu.903.huma         Pampachica  \n",
       "10333.Manaus.3156.1313836           n  \n",
       "10333.Iqu.937.huma         Pampachica  \n",
       "10333.Manaus.3457.1313376         NaN  \n",
       "\n",
       "[164 rows x 81 columns]"
      ]
     },
     "execution_count": 6,
     "metadata": {},
     "output_type": "execute_result"
    }
   ],
   "source": [
    "mf"
   ]
  },
  {
   "cell_type": "code",
   "execution_count": 7,
   "metadata": {},
   "outputs": [
    {
     "data": {
      "text/plain": [
       "array(['TACGTAGGTGGCAAGCGTTATCCGGAATTATTGGGCGTAAAGCGCGCGTAGGCGGTTTCTTAAGTCTGATGTGAAAGCCCACGGCTCAACCGTGGAGGGT',\n",
       "       'TACAGAGGGTGCGAGCGTTAATCGGAATTACTGGGCGTAAAGCGAGTGTAGGTGGCTCATTAAGTCACATGTGAAATCCCCGGGCTTAACCTGGGAACTG',\n",
       "       'TACAGAGGGTGCAAGCGTTAATCGGAATTACTGGGCGTAAAGCGCGCGTAGGTGGTTCGTTAAGTTGGATGTGAAATCCCCGGGCTCAACCTGGGAACTG',\n",
       "       ...,\n",
       "       'TACGTAGGGTGCGAGCGTTGTCCGGAATTATTGGGCGTAAAGGGCGCGTAGGCGGTTTGTCGCGTCGGGAGTGAAAACCAGGTGCTTAACACGTGGCTTG',\n",
       "       'TACGTAGGGTGCAAGCGTTGTCCGGAATTATTGGGCGTAAAGAGCGCGTAGGCGGTTTGTTGCGTCGGCTGTGAAAACCTGAGGCTCAACCTGAGGCCTG',\n",
       "       'TACGTAGGGTGCGAGCGTTGTCCGGAATTACTGGGCGTAAAGAGCGCGTAGGCGGTTTGTCGCGTCGTCTGTGAAATTCTGCAACTCAATTGGAGGCGTG'],\n",
       "      dtype='<U100')"
      ]
     },
     "execution_count": 7,
     "metadata": {},
     "output_type": "execute_result"
    }
   ],
   "source": [
    "bt.ids(axis='observation')"
   ]
  },
  {
   "cell_type": "markdown",
   "metadata": {},
   "source": [
    "## RPCA with abundance"
   ]
  },
  {
   "cell_type": "code",
   "execution_count": 8,
   "metadata": {},
   "outputs": [],
   "source": [
    "table_matrix = bt.to_dataframe().T"
   ]
  },
  {
   "cell_type": "code",
   "execution_count": 9,
   "metadata": {},
   "outputs": [],
   "source": [
    "table_matrix_rclr = rclr(table_matrix)"
   ]
  },
  {
   "cell_type": "code",
   "execution_count": 10,
   "metadata": {},
   "outputs": [
    {
     "data": {
      "text/plain": [
       "(164, 1443)"
      ]
     },
     "execution_count": 10,
     "metadata": {},
     "output_type": "execute_result"
    }
   ],
   "source": [
    "table_matrix_rclr.shape"
   ]
  },
  {
   "cell_type": "code",
   "execution_count": 11,
   "metadata": {},
   "outputs": [],
   "source": [
    "df_table_abundance_rclr = pd.DataFrame(table_matrix_rclr, index=list(bt.ids(axis='sample')), columns=list(bt.ids(axis='observation')))"
   ]
  },
  {
   "cell_type": "code",
   "execution_count": 12,
   "metadata": {},
   "outputs": [
    {
     "data": {
      "text/html": [
       "<div>\n",
       "<style scoped>\n",
       "    .dataframe tbody tr th:only-of-type {\n",
       "        vertical-align: middle;\n",
       "    }\n",
       "\n",
       "    .dataframe tbody tr th {\n",
       "        vertical-align: top;\n",
       "    }\n",
       "\n",
       "    .dataframe thead th {\n",
       "        text-align: right;\n",
       "    }\n",
       "</style>\n",
       "<table border=\"1\" class=\"dataframe\">\n",
       "  <thead>\n",
       "    <tr style=\"text-align: right;\">\n",
       "      <th></th>\n",
       "      <th>TACGTAGGTGGCAAGCGTTATCCGGAATTATTGGGCGTAAAGCGCGCGTAGGCGGTTTCTTAAGTCTGATGTGAAAGCCCACGGCTCAACCGTGGAGGGT</th>\n",
       "      <th>TACAGAGGGTGCGAGCGTTAATCGGAATTACTGGGCGTAAAGCGAGTGTAGGTGGCTCATTAAGTCACATGTGAAATCCCCGGGCTTAACCTGGGAACTG</th>\n",
       "      <th>TACAGAGGGTGCAAGCGTTAATCGGAATTACTGGGCGTAAAGCGCGCGTAGGTGGTTCGTTAAGTTGGATGTGAAATCCCCGGGCTCAACCTGGGAACTG</th>\n",
       "      <th>TACGGAGGGTGCAAGCGTTATCCGGATTTATTGGGTTTAAAGGGTCCGTAGGCGGATCTGTAAGTCAGTGGTGAAATCTCACAGCTTAACTGTGAAACTG</th>\n",
       "      <th>TACGTAGGGTGCGAGCGTTGTCCGGAATTATTGGGCGTAAAGAGCTTGTAGGCGGTTTGTCGCGTCTGCTGTGAAAGACCGGGGCTTAACTCCGGTTCTG</th>\n",
       "      <th>TACGTAGGGCGCAAGCGTTGTCCGGAATTATTGGGCGTAAAGAGCTCGTAGGCGGTTTGTCGCGTCTGCTGTGAAAGCCCGGGGCTTAACCCCGGGTGTG</th>\n",
       "      <th>TACGTAGGGTGCGAGCGTTATCCGGAATTATTGGGCGTAAAGAGCTCGTAGGCGGTTTGTCGCGTCTGTCGTGAAAGTCCGGGGCTTAACCCCGGATCTG</th>\n",
       "      <th>TACGTAGGGCGCGAGCGTTATCCGGAATTATTGGGCGTAAAGAGCTCGTAGGCGGTTTGTCGCGTCTGCTGTGAAAGCCCGGGGCTTAACCCCGGGTGTG</th>\n",
       "      <th>TACGGAGGGTGCAAGCGTTAATCGGAATTACTGGGCGTAAAGCGCACGCAGGCGGTCTGTTAAGTCAGATGTGAAATCCCCGGGCTTAACCTGGGAACTG</th>\n",
       "      <th>TACAGAGGGTGCAAGCGTTAATCGGATTTACTGGGCGTAAAGCGCGCGTAGGCGGCTAATTAAGTCAAATGTGAAATCCCCGAGCTTAACTTGGGAATTG</th>\n",
       "      <th>...</th>\n",
       "      <th>TACGTAGGGGGCAAGCGTTGTCCGGATTTACTGGGCGTAAAGAGCGTGTAGGCGGCCACGCAGGTCTGTTGTGAAAACTGGAGGCTCAACCTCCAGACGT</th>\n",
       "      <th>TACGTAGGTGGCAAGCGTTGTCCGGAATTATTGGGCGTAAAGCGCGCGCAGGCGGTCAGGTAAGTCTGATGTTAAAGCCCGGGGCTCAACCCCGGTTCGC</th>\n",
       "      <th>TACGTAGGGGGCTAGCGTTGTCCGGAATCATTGGGCGTAAAGCGCGCGTAGGCGGCCCGGTCAGTCCGCTCTGAAAGTCCAGGGCTCAACCCTGGAAAGC</th>\n",
       "      <th>TACGTAGGGGGCAAGCGTTGTCCGGATTTATTGGGCGTAAAGCGCGCGCAGGCGGCTTACTAAGTCTGATGTGAAAGCCCACGGCTCAACCGTGGAGGGC</th>\n",
       "      <th>TACGTAGGGGTCGAGCGTTGTCCGGAGTTACTGGGCGTAAAGCGTGCGCAGGCGGCGCATCGCGCTCGGCGTGAAAGCCCCCGGCTCAACCGGGGAGGGG</th>\n",
       "      <th>TACGGAGGGTGCGAGCGTTAATCGGAATCACTGGGCGTAAAGGGCACGCAGGCGGTGACTTAAGTGAGGTGTGAAAGCCCCGGGCTTAACCTGGGAATTG</th>\n",
       "      <th>TACGGAGGGTGCAAGCGTTATCCGGATTTATTGGGTTTAAAGGGTGCGTAGGCGGACTTATAAGTCAGTGGTGAAAGCCTGTCGCTTAACGAGAGAACTG</th>\n",
       "      <th>TACGTAGGGTGCGAGCGTTGTCCGGAATTATTGGGCGTAAAGGGCGCGTAGGCGGTTTGTCGCGTCGGGAGTGAAAACCAGGTGCTTAACACGTGGCTTG</th>\n",
       "      <th>TACGTAGGGTGCAAGCGTTGTCCGGAATTATTGGGCGTAAAGAGCGCGTAGGCGGTTTGTTGCGTCGGCTGTGAAAACCTGAGGCTCAACCTGAGGCCTG</th>\n",
       "      <th>TACGTAGGGTGCGAGCGTTGTCCGGAATTACTGGGCGTAAAGAGCGCGTAGGCGGTTTGTCGCGTCGTCTGTGAAATTCTGCAACTCAATTGGAGGCGTG</th>\n",
       "    </tr>\n",
       "  </thead>\n",
       "  <tbody>\n",
       "    <tr>\n",
       "      <th>10333.Manaus.3346.1313696</th>\n",
       "      <td>1.421567</td>\n",
       "      <td>3.110142</td>\n",
       "      <td>4.201482</td>\n",
       "      <td>1.360942</td>\n",
       "      <td>0.986249</td>\n",
       "      <td>2.006080</td>\n",
       "      <td>3.076990</td>\n",
       "      <td>NaN</td>\n",
       "      <td>NaN</td>\n",
       "      <td>-0.025352</td>\n",
       "      <td>...</td>\n",
       "      <td>NaN</td>\n",
       "      <td>NaN</td>\n",
       "      <td>NaN</td>\n",
       "      <td>NaN</td>\n",
       "      <td>NaN</td>\n",
       "      <td>NaN</td>\n",
       "      <td>NaN</td>\n",
       "      <td>NaN</td>\n",
       "      <td>NaN</td>\n",
       "      <td>NaN</td>\n",
       "    </tr>\n",
       "    <tr>\n",
       "      <th>10333.Manaus.3546.1313272</th>\n",
       "      <td>1.654979</td>\n",
       "      <td>2.925688</td>\n",
       "      <td>3.034206</td>\n",
       "      <td>0.706485</td>\n",
       "      <td>-0.902953</td>\n",
       "      <td>2.647187</td>\n",
       "      <td>2.419464</td>\n",
       "      <td>NaN</td>\n",
       "      <td>-2.202236</td>\n",
       "      <td>3.260182</td>\n",
       "      <td>...</td>\n",
       "      <td>NaN</td>\n",
       "      <td>NaN</td>\n",
       "      <td>NaN</td>\n",
       "      <td>NaN</td>\n",
       "      <td>NaN</td>\n",
       "      <td>NaN</td>\n",
       "      <td>NaN</td>\n",
       "      <td>NaN</td>\n",
       "      <td>NaN</td>\n",
       "      <td>NaN</td>\n",
       "    </tr>\n",
       "    <tr>\n",
       "      <th>10333.Manaus.3708.1313460</th>\n",
       "      <td>NaN</td>\n",
       "      <td>2.576972</td>\n",
       "      <td>3.042268</td>\n",
       "      <td>0.175216</td>\n",
       "      <td>NaN</td>\n",
       "      <td>0.131731</td>\n",
       "      <td>3.212621</td>\n",
       "      <td>NaN</td>\n",
       "      <td>NaN</td>\n",
       "      <td>2.559479</td>\n",
       "      <td>...</td>\n",
       "      <td>NaN</td>\n",
       "      <td>NaN</td>\n",
       "      <td>NaN</td>\n",
       "      <td>NaN</td>\n",
       "      <td>NaN</td>\n",
       "      <td>NaN</td>\n",
       "      <td>NaN</td>\n",
       "      <td>NaN</td>\n",
       "      <td>NaN</td>\n",
       "      <td>NaN</td>\n",
       "    </tr>\n",
       "    <tr>\n",
       "      <th>10333.Manaus.3318.1313403</th>\n",
       "      <td>NaN</td>\n",
       "      <td>3.128366</td>\n",
       "      <td>3.468338</td>\n",
       "      <td>-0.461307</td>\n",
       "      <td>NaN</td>\n",
       "      <td>-0.866772</td>\n",
       "      <td>1.330452</td>\n",
       "      <td>NaN</td>\n",
       "      <td>-1.559919</td>\n",
       "      <td>1.891126</td>\n",
       "      <td>...</td>\n",
       "      <td>NaN</td>\n",
       "      <td>NaN</td>\n",
       "      <td>NaN</td>\n",
       "      <td>NaN</td>\n",
       "      <td>NaN</td>\n",
       "      <td>NaN</td>\n",
       "      <td>NaN</td>\n",
       "      <td>NaN</td>\n",
       "      <td>NaN</td>\n",
       "      <td>NaN</td>\n",
       "    </tr>\n",
       "    <tr>\n",
       "      <th>10333.Manaus.3372.1313934</th>\n",
       "      <td>1.034964</td>\n",
       "      <td>0.271265</td>\n",
       "      <td>4.162011</td>\n",
       "      <td>-1.651522</td>\n",
       "      <td>NaN</td>\n",
       "      <td>0.862943</td>\n",
       "      <td>-0.552910</td>\n",
       "      <td>NaN</td>\n",
       "      <td>NaN</td>\n",
       "      <td>1.736252</td>\n",
       "      <td>...</td>\n",
       "      <td>NaN</td>\n",
       "      <td>NaN</td>\n",
       "      <td>NaN</td>\n",
       "      <td>NaN</td>\n",
       "      <td>NaN</td>\n",
       "      <td>NaN</td>\n",
       "      <td>NaN</td>\n",
       "      <td>NaN</td>\n",
       "      <td>NaN</td>\n",
       "      <td>NaN</td>\n",
       "    </tr>\n",
       "    <tr>\n",
       "      <th>...</th>\n",
       "      <td>...</td>\n",
       "      <td>...</td>\n",
       "      <td>...</td>\n",
       "      <td>...</td>\n",
       "      <td>...</td>\n",
       "      <td>...</td>\n",
       "      <td>...</td>\n",
       "      <td>...</td>\n",
       "      <td>...</td>\n",
       "      <td>...</td>\n",
       "      <td>...</td>\n",
       "      <td>...</td>\n",
       "      <td>...</td>\n",
       "      <td>...</td>\n",
       "      <td>...</td>\n",
       "      <td>...</td>\n",
       "      <td>...</td>\n",
       "      <td>...</td>\n",
       "      <td>...</td>\n",
       "      <td>...</td>\n",
       "      <td>...</td>\n",
       "    </tr>\n",
       "    <tr>\n",
       "      <th>10333.Iqu.1038.huma</th>\n",
       "      <td>3.595911</td>\n",
       "      <td>2.841568</td>\n",
       "      <td>NaN</td>\n",
       "      <td>2.365722</td>\n",
       "      <td>1.762187</td>\n",
       "      <td>3.544377</td>\n",
       "      <td>4.340237</td>\n",
       "      <td>2.695475</td>\n",
       "      <td>-0.001402</td>\n",
       "      <td>2.497298</td>\n",
       "      <td>...</td>\n",
       "      <td>NaN</td>\n",
       "      <td>NaN</td>\n",
       "      <td>NaN</td>\n",
       "      <td>NaN</td>\n",
       "      <td>NaN</td>\n",
       "      <td>NaN</td>\n",
       "      <td>NaN</td>\n",
       "      <td>-0.694549</td>\n",
       "      <td>NaN</td>\n",
       "      <td>-1.793161</td>\n",
       "    </tr>\n",
       "    <tr>\n",
       "      <th>10333.Iqu.1127.huma</th>\n",
       "      <td>3.603215</td>\n",
       "      <td>1.967460</td>\n",
       "      <td>NaN</td>\n",
       "      <td>1.785138</td>\n",
       "      <td>3.609688</td>\n",
       "      <td>3.879468</td>\n",
       "      <td>4.736919</td>\n",
       "      <td>2.047503</td>\n",
       "      <td>3.257610</td>\n",
       "      <td>2.725146</td>\n",
       "      <td>...</td>\n",
       "      <td>NaN</td>\n",
       "      <td>NaN</td>\n",
       "      <td>NaN</td>\n",
       "      <td>NaN</td>\n",
       "      <td>NaN</td>\n",
       "      <td>NaN</td>\n",
       "      <td>-2.126885</td>\n",
       "      <td>0.175700</td>\n",
       "      <td>NaN</td>\n",
       "      <td>-1.433738</td>\n",
       "    </tr>\n",
       "    <tr>\n",
       "      <th>10333.Iqu.1086.huma</th>\n",
       "      <td>4.230214</td>\n",
       "      <td>3.442602</td>\n",
       "      <td>NaN</td>\n",
       "      <td>3.821928</td>\n",
       "      <td>4.703733</td>\n",
       "      <td>2.641683</td>\n",
       "      <td>3.128781</td>\n",
       "      <td>1.248468</td>\n",
       "      <td>1.191310</td>\n",
       "      <td>4.240025</td>\n",
       "      <td>...</td>\n",
       "      <td>NaN</td>\n",
       "      <td>NaN</td>\n",
       "      <td>NaN</td>\n",
       "      <td>NaN</td>\n",
       "      <td>NaN</td>\n",
       "      <td>NaN</td>\n",
       "      <td>-2.335051</td>\n",
       "      <td>-1.236438</td>\n",
       "      <td>NaN</td>\n",
       "      <td>NaN</td>\n",
       "    </tr>\n",
       "    <tr>\n",
       "      <th>10333.Man.1810.huma</th>\n",
       "      <td>NaN</td>\n",
       "      <td>2.358093</td>\n",
       "      <td>NaN</td>\n",
       "      <td>-1.363577</td>\n",
       "      <td>NaN</td>\n",
       "      <td>0.987799</td>\n",
       "      <td>2.521418</td>\n",
       "      <td>NaN</td>\n",
       "      <td>NaN</td>\n",
       "      <td>NaN</td>\n",
       "      <td>...</td>\n",
       "      <td>NaN</td>\n",
       "      <td>NaN</td>\n",
       "      <td>NaN</td>\n",
       "      <td>NaN</td>\n",
       "      <td>NaN</td>\n",
       "      <td>NaN</td>\n",
       "      <td>NaN</td>\n",
       "      <td>NaN</td>\n",
       "      <td>NaN</td>\n",
       "      <td>NaN</td>\n",
       "    </tr>\n",
       "    <tr>\n",
       "      <th>10333.Iqu.937.huma</th>\n",
       "      <td>NaN</td>\n",
       "      <td>1.149628</td>\n",
       "      <td>NaN</td>\n",
       "      <td>NaN</td>\n",
       "      <td>NaN</td>\n",
       "      <td>1.742691</td>\n",
       "      <td>2.582442</td>\n",
       "      <td>NaN</td>\n",
       "      <td>NaN</td>\n",
       "      <td>1.022876</td>\n",
       "      <td>...</td>\n",
       "      <td>NaN</td>\n",
       "      <td>NaN</td>\n",
       "      <td>NaN</td>\n",
       "      <td>NaN</td>\n",
       "      <td>NaN</td>\n",
       "      <td>-0.390817</td>\n",
       "      <td>NaN</td>\n",
       "      <td>NaN</td>\n",
       "      <td>NaN</td>\n",
       "      <td>NaN</td>\n",
       "    </tr>\n",
       "  </tbody>\n",
       "</table>\n",
       "<p>164 rows × 1443 columns</p>\n",
       "</div>"
      ],
      "text/plain": [
       "                           TACGTAGGTGGCAAGCGTTATCCGGAATTATTGGGCGTAAAGCGCGCGTAGGCGGTTTCTTAAGTCTGATGTGAAAGCCCACGGCTCAACCGTGGAGGGT  \\\n",
       "10333.Manaus.3346.1313696                                           1.421567                                                      \n",
       "10333.Manaus.3546.1313272                                           1.654979                                                      \n",
       "10333.Manaus.3708.1313460                                                NaN                                                      \n",
       "10333.Manaus.3318.1313403                                                NaN                                                      \n",
       "10333.Manaus.3372.1313934                                           1.034964                                                      \n",
       "...                                                                      ...                                                      \n",
       "10333.Iqu.1038.huma                                                 3.595911                                                      \n",
       "10333.Iqu.1127.huma                                                 3.603215                                                      \n",
       "10333.Iqu.1086.huma                                                 4.230214                                                      \n",
       "10333.Man.1810.huma                                                      NaN                                                      \n",
       "10333.Iqu.937.huma                                                       NaN                                                      \n",
       "\n",
       "                           TACAGAGGGTGCGAGCGTTAATCGGAATTACTGGGCGTAAAGCGAGTGTAGGTGGCTCATTAAGTCACATGTGAAATCCCCGGGCTTAACCTGGGAACTG  \\\n",
       "10333.Manaus.3346.1313696                                           3.110142                                                      \n",
       "10333.Manaus.3546.1313272                                           2.925688                                                      \n",
       "10333.Manaus.3708.1313460                                           2.576972                                                      \n",
       "10333.Manaus.3318.1313403                                           3.128366                                                      \n",
       "10333.Manaus.3372.1313934                                           0.271265                                                      \n",
       "...                                                                      ...                                                      \n",
       "10333.Iqu.1038.huma                                                 2.841568                                                      \n",
       "10333.Iqu.1127.huma                                                 1.967460                                                      \n",
       "10333.Iqu.1086.huma                                                 3.442602                                                      \n",
       "10333.Man.1810.huma                                                 2.358093                                                      \n",
       "10333.Iqu.937.huma                                                  1.149628                                                      \n",
       "\n",
       "                           TACAGAGGGTGCAAGCGTTAATCGGAATTACTGGGCGTAAAGCGCGCGTAGGTGGTTCGTTAAGTTGGATGTGAAATCCCCGGGCTCAACCTGGGAACTG  \\\n",
       "10333.Manaus.3346.1313696                                           4.201482                                                      \n",
       "10333.Manaus.3546.1313272                                           3.034206                                                      \n",
       "10333.Manaus.3708.1313460                                           3.042268                                                      \n",
       "10333.Manaus.3318.1313403                                           3.468338                                                      \n",
       "10333.Manaus.3372.1313934                                           4.162011                                                      \n",
       "...                                                                      ...                                                      \n",
       "10333.Iqu.1038.huma                                                      NaN                                                      \n",
       "10333.Iqu.1127.huma                                                      NaN                                                      \n",
       "10333.Iqu.1086.huma                                                      NaN                                                      \n",
       "10333.Man.1810.huma                                                      NaN                                                      \n",
       "10333.Iqu.937.huma                                                       NaN                                                      \n",
       "\n",
       "                           TACGGAGGGTGCAAGCGTTATCCGGATTTATTGGGTTTAAAGGGTCCGTAGGCGGATCTGTAAGTCAGTGGTGAAATCTCACAGCTTAACTGTGAAACTG  \\\n",
       "10333.Manaus.3346.1313696                                           1.360942                                                      \n",
       "10333.Manaus.3546.1313272                                           0.706485                                                      \n",
       "10333.Manaus.3708.1313460                                           0.175216                                                      \n",
       "10333.Manaus.3318.1313403                                          -0.461307                                                      \n",
       "10333.Manaus.3372.1313934                                          -1.651522                                                      \n",
       "...                                                                      ...                                                      \n",
       "10333.Iqu.1038.huma                                                 2.365722                                                      \n",
       "10333.Iqu.1127.huma                                                 1.785138                                                      \n",
       "10333.Iqu.1086.huma                                                 3.821928                                                      \n",
       "10333.Man.1810.huma                                                -1.363577                                                      \n",
       "10333.Iqu.937.huma                                                       NaN                                                      \n",
       "\n",
       "                           TACGTAGGGTGCGAGCGTTGTCCGGAATTATTGGGCGTAAAGAGCTTGTAGGCGGTTTGTCGCGTCTGCTGTGAAAGACCGGGGCTTAACTCCGGTTCTG  \\\n",
       "10333.Manaus.3346.1313696                                           0.986249                                                      \n",
       "10333.Manaus.3546.1313272                                          -0.902953                                                      \n",
       "10333.Manaus.3708.1313460                                                NaN                                                      \n",
       "10333.Manaus.3318.1313403                                                NaN                                                      \n",
       "10333.Manaus.3372.1313934                                                NaN                                                      \n",
       "...                                                                      ...                                                      \n",
       "10333.Iqu.1038.huma                                                 1.762187                                                      \n",
       "10333.Iqu.1127.huma                                                 3.609688                                                      \n",
       "10333.Iqu.1086.huma                                                 4.703733                                                      \n",
       "10333.Man.1810.huma                                                      NaN                                                      \n",
       "10333.Iqu.937.huma                                                       NaN                                                      \n",
       "\n",
       "                           TACGTAGGGCGCAAGCGTTGTCCGGAATTATTGGGCGTAAAGAGCTCGTAGGCGGTTTGTCGCGTCTGCTGTGAAAGCCCGGGGCTTAACCCCGGGTGTG  \\\n",
       "10333.Manaus.3346.1313696                                           2.006080                                                      \n",
       "10333.Manaus.3546.1313272                                           2.647187                                                      \n",
       "10333.Manaus.3708.1313460                                           0.131731                                                      \n",
       "10333.Manaus.3318.1313403                                          -0.866772                                                      \n",
       "10333.Manaus.3372.1313934                                           0.862943                                                      \n",
       "...                                                                      ...                                                      \n",
       "10333.Iqu.1038.huma                                                 3.544377                                                      \n",
       "10333.Iqu.1127.huma                                                 3.879468                                                      \n",
       "10333.Iqu.1086.huma                                                 2.641683                                                      \n",
       "10333.Man.1810.huma                                                 0.987799                                                      \n",
       "10333.Iqu.937.huma                                                  1.742691                                                      \n",
       "\n",
       "                           TACGTAGGGTGCGAGCGTTATCCGGAATTATTGGGCGTAAAGAGCTCGTAGGCGGTTTGTCGCGTCTGTCGTGAAAGTCCGGGGCTTAACCCCGGATCTG  \\\n",
       "10333.Manaus.3346.1313696                                           3.076990                                                      \n",
       "10333.Manaus.3546.1313272                                           2.419464                                                      \n",
       "10333.Manaus.3708.1313460                                           3.212621                                                      \n",
       "10333.Manaus.3318.1313403                                           1.330452                                                      \n",
       "10333.Manaus.3372.1313934                                          -0.552910                                                      \n",
       "...                                                                      ...                                                      \n",
       "10333.Iqu.1038.huma                                                 4.340237                                                      \n",
       "10333.Iqu.1127.huma                                                 4.736919                                                      \n",
       "10333.Iqu.1086.huma                                                 3.128781                                                      \n",
       "10333.Man.1810.huma                                                 2.521418                                                      \n",
       "10333.Iqu.937.huma                                                  2.582442                                                      \n",
       "\n",
       "                           TACGTAGGGCGCGAGCGTTATCCGGAATTATTGGGCGTAAAGAGCTCGTAGGCGGTTTGTCGCGTCTGCTGTGAAAGCCCGGGGCTTAACCCCGGGTGTG  \\\n",
       "10333.Manaus.3346.1313696                                                NaN                                                      \n",
       "10333.Manaus.3546.1313272                                                NaN                                                      \n",
       "10333.Manaus.3708.1313460                                                NaN                                                      \n",
       "10333.Manaus.3318.1313403                                                NaN                                                      \n",
       "10333.Manaus.3372.1313934                                                NaN                                                      \n",
       "...                                                                      ...                                                      \n",
       "10333.Iqu.1038.huma                                                 2.695475                                                      \n",
       "10333.Iqu.1127.huma                                                 2.047503                                                      \n",
       "10333.Iqu.1086.huma                                                 1.248468                                                      \n",
       "10333.Man.1810.huma                                                      NaN                                                      \n",
       "10333.Iqu.937.huma                                                       NaN                                                      \n",
       "\n",
       "                           TACGGAGGGTGCAAGCGTTAATCGGAATTACTGGGCGTAAAGCGCACGCAGGCGGTCTGTTAAGTCAGATGTGAAATCCCCGGGCTTAACCTGGGAACTG  \\\n",
       "10333.Manaus.3346.1313696                                                NaN                                                      \n",
       "10333.Manaus.3546.1313272                                          -2.202236                                                      \n",
       "10333.Manaus.3708.1313460                                                NaN                                                      \n",
       "10333.Manaus.3318.1313403                                          -1.559919                                                      \n",
       "10333.Manaus.3372.1313934                                                NaN                                                      \n",
       "...                                                                      ...                                                      \n",
       "10333.Iqu.1038.huma                                                -0.001402                                                      \n",
       "10333.Iqu.1127.huma                                                 3.257610                                                      \n",
       "10333.Iqu.1086.huma                                                 1.191310                                                      \n",
       "10333.Man.1810.huma                                                      NaN                                                      \n",
       "10333.Iqu.937.huma                                                       NaN                                                      \n",
       "\n",
       "                           TACAGAGGGTGCAAGCGTTAATCGGATTTACTGGGCGTAAAGCGCGCGTAGGCGGCTAATTAAGTCAAATGTGAAATCCCCGAGCTTAACTTGGGAATTG  \\\n",
       "10333.Manaus.3346.1313696                                          -0.025352                                                      \n",
       "10333.Manaus.3546.1313272                                           3.260182                                                      \n",
       "10333.Manaus.3708.1313460                                           2.559479                                                      \n",
       "10333.Manaus.3318.1313403                                           1.891126                                                      \n",
       "10333.Manaus.3372.1313934                                           1.736252                                                      \n",
       "...                                                                      ...                                                      \n",
       "10333.Iqu.1038.huma                                                 2.497298                                                      \n",
       "10333.Iqu.1127.huma                                                 2.725146                                                      \n",
       "10333.Iqu.1086.huma                                                 4.240025                                                      \n",
       "10333.Man.1810.huma                                                      NaN                                                      \n",
       "10333.Iqu.937.huma                                                  1.022876                                                      \n",
       "\n",
       "                           ...  \\\n",
       "10333.Manaus.3346.1313696  ...   \n",
       "10333.Manaus.3546.1313272  ...   \n",
       "10333.Manaus.3708.1313460  ...   \n",
       "10333.Manaus.3318.1313403  ...   \n",
       "10333.Manaus.3372.1313934  ...   \n",
       "...                        ...   \n",
       "10333.Iqu.1038.huma        ...   \n",
       "10333.Iqu.1127.huma        ...   \n",
       "10333.Iqu.1086.huma        ...   \n",
       "10333.Man.1810.huma        ...   \n",
       "10333.Iqu.937.huma         ...   \n",
       "\n",
       "                           TACGTAGGGGGCAAGCGTTGTCCGGATTTACTGGGCGTAAAGAGCGTGTAGGCGGCCACGCAGGTCTGTTGTGAAAACTGGAGGCTCAACCTCCAGACGT  \\\n",
       "10333.Manaus.3346.1313696                                                NaN                                                      \n",
       "10333.Manaus.3546.1313272                                                NaN                                                      \n",
       "10333.Manaus.3708.1313460                                                NaN                                                      \n",
       "10333.Manaus.3318.1313403                                                NaN                                                      \n",
       "10333.Manaus.3372.1313934                                                NaN                                                      \n",
       "...                                                                      ...                                                      \n",
       "10333.Iqu.1038.huma                                                      NaN                                                      \n",
       "10333.Iqu.1127.huma                                                      NaN                                                      \n",
       "10333.Iqu.1086.huma                                                      NaN                                                      \n",
       "10333.Man.1810.huma                                                      NaN                                                      \n",
       "10333.Iqu.937.huma                                                       NaN                                                      \n",
       "\n",
       "                           TACGTAGGTGGCAAGCGTTGTCCGGAATTATTGGGCGTAAAGCGCGCGCAGGCGGTCAGGTAAGTCTGATGTTAAAGCCCGGGGCTCAACCCCGGTTCGC  \\\n",
       "10333.Manaus.3346.1313696                                                NaN                                                      \n",
       "10333.Manaus.3546.1313272                                                NaN                                                      \n",
       "10333.Manaus.3708.1313460                                                NaN                                                      \n",
       "10333.Manaus.3318.1313403                                                NaN                                                      \n",
       "10333.Manaus.3372.1313934                                                NaN                                                      \n",
       "...                                                                      ...                                                      \n",
       "10333.Iqu.1038.huma                                                      NaN                                                      \n",
       "10333.Iqu.1127.huma                                                      NaN                                                      \n",
       "10333.Iqu.1086.huma                                                      NaN                                                      \n",
       "10333.Man.1810.huma                                                      NaN                                                      \n",
       "10333.Iqu.937.huma                                                       NaN                                                      \n",
       "\n",
       "                           TACGTAGGGGGCTAGCGTTGTCCGGAATCATTGGGCGTAAAGCGCGCGTAGGCGGCCCGGTCAGTCCGCTCTGAAAGTCCAGGGCTCAACCCTGGAAAGC  \\\n",
       "10333.Manaus.3346.1313696                                                NaN                                                      \n",
       "10333.Manaus.3546.1313272                                                NaN                                                      \n",
       "10333.Manaus.3708.1313460                                                NaN                                                      \n",
       "10333.Manaus.3318.1313403                                                NaN                                                      \n",
       "10333.Manaus.3372.1313934                                                NaN                                                      \n",
       "...                                                                      ...                                                      \n",
       "10333.Iqu.1038.huma                                                      NaN                                                      \n",
       "10333.Iqu.1127.huma                                                      NaN                                                      \n",
       "10333.Iqu.1086.huma                                                      NaN                                                      \n",
       "10333.Man.1810.huma                                                      NaN                                                      \n",
       "10333.Iqu.937.huma                                                       NaN                                                      \n",
       "\n",
       "                           TACGTAGGGGGCAAGCGTTGTCCGGATTTATTGGGCGTAAAGCGCGCGCAGGCGGCTTACTAAGTCTGATGTGAAAGCCCACGGCTCAACCGTGGAGGGC  \\\n",
       "10333.Manaus.3346.1313696                                                NaN                                                      \n",
       "10333.Manaus.3546.1313272                                                NaN                                                      \n",
       "10333.Manaus.3708.1313460                                                NaN                                                      \n",
       "10333.Manaus.3318.1313403                                                NaN                                                      \n",
       "10333.Manaus.3372.1313934                                                NaN                                                      \n",
       "...                                                                      ...                                                      \n",
       "10333.Iqu.1038.huma                                                      NaN                                                      \n",
       "10333.Iqu.1127.huma                                                      NaN                                                      \n",
       "10333.Iqu.1086.huma                                                      NaN                                                      \n",
       "10333.Man.1810.huma                                                      NaN                                                      \n",
       "10333.Iqu.937.huma                                                       NaN                                                      \n",
       "\n",
       "                           TACGTAGGGGTCGAGCGTTGTCCGGAGTTACTGGGCGTAAAGCGTGCGCAGGCGGCGCATCGCGCTCGGCGTGAAAGCCCCCGGCTCAACCGGGGAGGGG  \\\n",
       "10333.Manaus.3346.1313696                                                NaN                                                      \n",
       "10333.Manaus.3546.1313272                                                NaN                                                      \n",
       "10333.Manaus.3708.1313460                                                NaN                                                      \n",
       "10333.Manaus.3318.1313403                                                NaN                                                      \n",
       "10333.Manaus.3372.1313934                                                NaN                                                      \n",
       "...                                                                      ...                                                      \n",
       "10333.Iqu.1038.huma                                                      NaN                                                      \n",
       "10333.Iqu.1127.huma                                                      NaN                                                      \n",
       "10333.Iqu.1086.huma                                                      NaN                                                      \n",
       "10333.Man.1810.huma                                                      NaN                                                      \n",
       "10333.Iqu.937.huma                                                       NaN                                                      \n",
       "\n",
       "                           TACGGAGGGTGCGAGCGTTAATCGGAATCACTGGGCGTAAAGGGCACGCAGGCGGTGACTTAAGTGAGGTGTGAAAGCCCCGGGCTTAACCTGGGAATTG  \\\n",
       "10333.Manaus.3346.1313696                                                NaN                                                      \n",
       "10333.Manaus.3546.1313272                                                NaN                                                      \n",
       "10333.Manaus.3708.1313460                                                NaN                                                      \n",
       "10333.Manaus.3318.1313403                                                NaN                                                      \n",
       "10333.Manaus.3372.1313934                                                NaN                                                      \n",
       "...                                                                      ...                                                      \n",
       "10333.Iqu.1038.huma                                                      NaN                                                      \n",
       "10333.Iqu.1127.huma                                                      NaN                                                      \n",
       "10333.Iqu.1086.huma                                                      NaN                                                      \n",
       "10333.Man.1810.huma                                                      NaN                                                      \n",
       "10333.Iqu.937.huma                                                 -0.390817                                                      \n",
       "\n",
       "                           TACGGAGGGTGCAAGCGTTATCCGGATTTATTGGGTTTAAAGGGTGCGTAGGCGGACTTATAAGTCAGTGGTGAAAGCCTGTCGCTTAACGAGAGAACTG  \\\n",
       "10333.Manaus.3346.1313696                                                NaN                                                      \n",
       "10333.Manaus.3546.1313272                                                NaN                                                      \n",
       "10333.Manaus.3708.1313460                                                NaN                                                      \n",
       "10333.Manaus.3318.1313403                                                NaN                                                      \n",
       "10333.Manaus.3372.1313934                                                NaN                                                      \n",
       "...                                                                      ...                                                      \n",
       "10333.Iqu.1038.huma                                                      NaN                                                      \n",
       "10333.Iqu.1127.huma                                                -2.126885                                                      \n",
       "10333.Iqu.1086.huma                                                -2.335051                                                      \n",
       "10333.Man.1810.huma                                                      NaN                                                      \n",
       "10333.Iqu.937.huma                                                       NaN                                                      \n",
       "\n",
       "                           TACGTAGGGTGCGAGCGTTGTCCGGAATTATTGGGCGTAAAGGGCGCGTAGGCGGTTTGTCGCGTCGGGAGTGAAAACCAGGTGCTTAACACGTGGCTTG  \\\n",
       "10333.Manaus.3346.1313696                                                NaN                                                      \n",
       "10333.Manaus.3546.1313272                                                NaN                                                      \n",
       "10333.Manaus.3708.1313460                                                NaN                                                      \n",
       "10333.Manaus.3318.1313403                                                NaN                                                      \n",
       "10333.Manaus.3372.1313934                                                NaN                                                      \n",
       "...                                                                      ...                                                      \n",
       "10333.Iqu.1038.huma                                                -0.694549                                                      \n",
       "10333.Iqu.1127.huma                                                 0.175700                                                      \n",
       "10333.Iqu.1086.huma                                                -1.236438                                                      \n",
       "10333.Man.1810.huma                                                      NaN                                                      \n",
       "10333.Iqu.937.huma                                                       NaN                                                      \n",
       "\n",
       "                           TACGTAGGGTGCAAGCGTTGTCCGGAATTATTGGGCGTAAAGAGCGCGTAGGCGGTTTGTTGCGTCGGCTGTGAAAACCTGAGGCTCAACCTGAGGCCTG  \\\n",
       "10333.Manaus.3346.1313696                                                NaN                                                      \n",
       "10333.Manaus.3546.1313272                                                NaN                                                      \n",
       "10333.Manaus.3708.1313460                                                NaN                                                      \n",
       "10333.Manaus.3318.1313403                                                NaN                                                      \n",
       "10333.Manaus.3372.1313934                                                NaN                                                      \n",
       "...                                                                      ...                                                      \n",
       "10333.Iqu.1038.huma                                                      NaN                                                      \n",
       "10333.Iqu.1127.huma                                                      NaN                                                      \n",
       "10333.Iqu.1086.huma                                                      NaN                                                      \n",
       "10333.Man.1810.huma                                                      NaN                                                      \n",
       "10333.Iqu.937.huma                                                       NaN                                                      \n",
       "\n",
       "                           TACGTAGGGTGCGAGCGTTGTCCGGAATTACTGGGCGTAAAGAGCGCGTAGGCGGTTTGTCGCGTCGTCTGTGAAATTCTGCAACTCAATTGGAGGCGTG  \n",
       "10333.Manaus.3346.1313696                                                NaN                                                     \n",
       "10333.Manaus.3546.1313272                                                NaN                                                     \n",
       "10333.Manaus.3708.1313460                                                NaN                                                     \n",
       "10333.Manaus.3318.1313403                                                NaN                                                     \n",
       "10333.Manaus.3372.1313934                                                NaN                                                     \n",
       "...                                                                      ...                                                     \n",
       "10333.Iqu.1038.huma                                                -1.793161                                                     \n",
       "10333.Iqu.1127.huma                                                -1.433738                                                     \n",
       "10333.Iqu.1086.huma                                                      NaN                                                     \n",
       "10333.Man.1810.huma                                                      NaN                                                     \n",
       "10333.Iqu.937.huma                                                       NaN                                                     \n",
       "\n",
       "[164 rows x 1443 columns]"
      ]
     },
     "execution_count": 12,
     "metadata": {},
     "output_type": "execute_result"
    }
   ],
   "source": [
    "df_table_abundance_rclr"
   ]
  },
  {
   "cell_type": "code",
   "execution_count": 13,
   "metadata": {},
   "outputs": [],
   "source": [
    "labels_str = [sid.split('.')[1] for sid in df_table_abundance_rclr.index]"
   ]
  },
  {
   "cell_type": "code",
   "execution_count": 14,
   "metadata": {},
   "outputs": [
    {
     "data": {
      "text/plain": [
       "{'Che', 'Iqu', 'Man', 'Manaus'}"
      ]
     },
     "execution_count": 14,
     "metadata": {},
     "output_type": "execute_result"
    }
   ],
   "source": [
    "set(labels_str)"
   ]
  },
  {
   "cell_type": "code",
   "execution_count": 15,
   "metadata": {},
   "outputs": [],
   "source": [
    "str_dict = {'Che':0, 'Iqu':1, 'Man':2, 'Manaus':2}\n",
    "\n",
    "labels_int = [str_dict[lab] for lab in labels_str]"
   ]
  },
  {
   "cell_type": "code",
   "execution_count": 16,
   "metadata": {},
   "outputs": [
    {
     "data": {
      "text/plain": [
       "Counter({2: 69, 0: 50, 1: 45})"
      ]
     },
     "execution_count": 16,
     "metadata": {},
     "output_type": "execute_result"
    }
   ],
   "source": [
    "# 统计每个类别的样本数\n",
    "from collections import Counter\n",
    "\n",
    "Counter(labels_int)"
   ]
  },
  {
   "cell_type": "code",
   "execution_count": 17,
   "metadata": {},
   "outputs": [],
   "source": [
    "color_map = {0:'#1f78b4', 1:'#a6cee3', 2:'#ff7f00'}\n",
    "colors = [color_map[label] for label in labels_int]"
   ]
  },
  {
   "cell_type": "code",
   "execution_count": 18,
   "metadata": {},
   "outputs": [],
   "source": [
    "feature_loading_abundance_3d, sample_loading_abundance_3d, eigvals_abundance_3d, proportion_explained_abundance_3d, distance_abundance_3d = rpca_table(df_table_abundance_rclr, 3)"
   ]
  },
  {
   "cell_type": "code",
   "execution_count": 19,
   "metadata": {},
   "outputs": [
    {
     "data": {
      "text/html": [
       "<div>\n",
       "<style scoped>\n",
       "    .dataframe tbody tr th:only-of-type {\n",
       "        vertical-align: middle;\n",
       "    }\n",
       "\n",
       "    .dataframe tbody tr th {\n",
       "        vertical-align: top;\n",
       "    }\n",
       "\n",
       "    .dataframe thead th {\n",
       "        text-align: right;\n",
       "    }\n",
       "</style>\n",
       "<table border=\"1\" class=\"dataframe\">\n",
       "  <thead>\n",
       "    <tr style=\"text-align: right;\">\n",
       "      <th></th>\n",
       "      <th>PC1</th>\n",
       "      <th>PC2</th>\n",
       "      <th>PC3</th>\n",
       "    </tr>\n",
       "  </thead>\n",
       "  <tbody>\n",
       "    <tr>\n",
       "      <th>10333.Manaus.3346.1313696</th>\n",
       "      <td>-0.062700</td>\n",
       "      <td>-0.032890</td>\n",
       "      <td>0.095675</td>\n",
       "    </tr>\n",
       "    <tr>\n",
       "      <th>10333.Manaus.3546.1313272</th>\n",
       "      <td>-0.088815</td>\n",
       "      <td>-0.020992</td>\n",
       "      <td>-0.001975</td>\n",
       "    </tr>\n",
       "    <tr>\n",
       "      <th>10333.Manaus.3708.1313460</th>\n",
       "      <td>-0.088330</td>\n",
       "      <td>0.158770</td>\n",
       "      <td>0.111032</td>\n",
       "    </tr>\n",
       "    <tr>\n",
       "      <th>10333.Manaus.3318.1313403</th>\n",
       "      <td>-0.090491</td>\n",
       "      <td>0.019124</td>\n",
       "      <td>0.080730</td>\n",
       "    </tr>\n",
       "    <tr>\n",
       "      <th>10333.Manaus.3372.1313934</th>\n",
       "      <td>-0.051201</td>\n",
       "      <td>-0.064899</td>\n",
       "      <td>0.157518</td>\n",
       "    </tr>\n",
       "    <tr>\n",
       "      <th>...</th>\n",
       "      <td>...</td>\n",
       "      <td>...</td>\n",
       "      <td>...</td>\n",
       "    </tr>\n",
       "    <tr>\n",
       "      <th>10333.Iqu.1038.huma</th>\n",
       "      <td>0.002337</td>\n",
       "      <td>0.030238</td>\n",
       "      <td>-0.077053</td>\n",
       "    </tr>\n",
       "    <tr>\n",
       "      <th>10333.Iqu.1127.huma</th>\n",
       "      <td>0.041955</td>\n",
       "      <td>-0.133582</td>\n",
       "      <td>-0.047127</td>\n",
       "    </tr>\n",
       "    <tr>\n",
       "      <th>10333.Iqu.1086.huma</th>\n",
       "      <td>-0.044493</td>\n",
       "      <td>0.046280</td>\n",
       "      <td>-0.106294</td>\n",
       "    </tr>\n",
       "    <tr>\n",
       "      <th>10333.Man.1810.huma</th>\n",
       "      <td>-0.053563</td>\n",
       "      <td>-0.047922</td>\n",
       "      <td>0.088778</td>\n",
       "    </tr>\n",
       "    <tr>\n",
       "      <th>10333.Iqu.937.huma</th>\n",
       "      <td>-0.064602</td>\n",
       "      <td>0.153718</td>\n",
       "      <td>0.086701</td>\n",
       "    </tr>\n",
       "  </tbody>\n",
       "</table>\n",
       "<p>164 rows × 3 columns</p>\n",
       "</div>"
      ],
      "text/plain": [
       "                                PC1       PC2       PC3\n",
       "10333.Manaus.3346.1313696 -0.062700 -0.032890  0.095675\n",
       "10333.Manaus.3546.1313272 -0.088815 -0.020992 -0.001975\n",
       "10333.Manaus.3708.1313460 -0.088330  0.158770  0.111032\n",
       "10333.Manaus.3318.1313403 -0.090491  0.019124  0.080730\n",
       "10333.Manaus.3372.1313934 -0.051201 -0.064899  0.157518\n",
       "...                             ...       ...       ...\n",
       "10333.Iqu.1038.huma        0.002337  0.030238 -0.077053\n",
       "10333.Iqu.1127.huma        0.041955 -0.133582 -0.047127\n",
       "10333.Iqu.1086.huma       -0.044493  0.046280 -0.106294\n",
       "10333.Man.1810.huma       -0.053563 -0.047922  0.088778\n",
       "10333.Iqu.937.huma        -0.064602  0.153718  0.086701\n",
       "\n",
       "[164 rows x 3 columns]"
      ]
     },
     "execution_count": 19,
     "metadata": {},
     "output_type": "execute_result"
    }
   ],
   "source": [
    "sample_loading_abundance_3d"
   ]
  },
  {
   "cell_type": "markdown",
   "metadata": {},
   "source": [
    "## Phylo-RPCA"
   ]
  },
  {
   "cell_type": "code",
   "execution_count": 20,
   "metadata": {},
   "outputs": [],
   "source": [
    "tntree = tree.view(TreeNode)\n",
    "tntree = tntree.shear(bt.ids('observation'))"
   ]
  },
  {
   "cell_type": "code",
   "execution_count": 21,
   "metadata": {},
   "outputs": [],
   "source": [
    "counts_by_node, tree_index, branch_lengths, fids, otu_ids = fast_unifrac(bt, tntree)\n",
    "table_matrix_phylo_rclr = matrix_rclr(counts_by_node, branch_lengths=branch_lengths)"
   ]
  },
  {
   "cell_type": "code",
   "execution_count": 22,
   "metadata": {},
   "outputs": [
    {
     "data": {
      "text/plain": [
       "(164, 2885)"
      ]
     },
     "execution_count": 22,
     "metadata": {},
     "output_type": "execute_result"
    }
   ],
   "source": [
    "table_matrix_phylo_rclr.shape"
   ]
  },
  {
   "cell_type": "code",
   "execution_count": 23,
   "metadata": {},
   "outputs": [],
   "source": [
    "df_table_phylo_rclr = pd.DataFrame(table_matrix_phylo_rclr, index=list(bt.ids(axis='sample')), columns=fids)"
   ]
  },
  {
   "cell_type": "code",
   "execution_count": 24,
   "metadata": {},
   "outputs": [
    {
     "data": {
      "text/html": [
       "<div>\n",
       "<style scoped>\n",
       "    .dataframe tbody tr th:only-of-type {\n",
       "        vertical-align: middle;\n",
       "    }\n",
       "\n",
       "    .dataframe tbody tr th {\n",
       "        vertical-align: top;\n",
       "    }\n",
       "\n",
       "    .dataframe thead th {\n",
       "        text-align: right;\n",
       "    }\n",
       "</style>\n",
       "<table border=\"1\" class=\"dataframe\">\n",
       "  <thead>\n",
       "    <tr style=\"text-align: right;\">\n",
       "      <th></th>\n",
       "      <th>TACCGGCAGCTCGAGTGATGGCTACTATTATTGGGCCTAAAGCGTCCGTAGCTGGCCGAACAGGTCTGTCGGGAAATCCGCCCGCTTAACGGGCGGACGT</th>\n",
       "      <th>TACCGGCAGCTCGAGTGATGGCCAATATTATTGGGCCTAAAGCGTCCGTAGCTGGCCGAACAGGTCTGTCGGGAAATCCGCTCGCTCAACGAGCGGACGT</th>\n",
       "      <th>TACCGGCAGCACGAGTGATGACCGCTATTATTGGGCCTAAAGCGTCCGTAGCTGGCCGCACAAGTCTATCGGGAAATCTGCGTGCTTAACGCGCAGGCGT</th>\n",
       "      <th>n3</th>\n",
       "      <th>TACCGGCAGCTCGAGTGATAGCCACTATTATTGGGCCTAAAGCGTCCGTAGCCGGCCGAACAGGTCCGTCGGGAAATCCACCCGCTCAACGGGTGGACGT</th>\n",
       "      <th>TACCGGCAGCACGAGTGATAGCCACTATTATTGGGCCTAAAGCGTCCGTAGCCGGCCGAACAGGTCCATCGGGAAATCCACCCGCTCAACGGGTGGACGT</th>\n",
       "      <th>n6</th>\n",
       "      <th>n7</th>\n",
       "      <th>TACCAGCCCCCCGAGTGGTCGGGACGATTATTGGGCCTAAAGCATCCGTAGCCGGCCTTACAAGTCCTCCGTTAAATCCAGCTGCTTAACAGATGGGCTG</th>\n",
       "      <th>TACCAGCACCCCGAGTGGTCGGGACGATTATTGGGCCTAAAGCATCCGTAGCCGGCCTTACAAGTCCTCCGTTAAATCCAGCTGCTTAACAGATGGGCTG</th>\n",
       "      <th>...</th>\n",
       "      <th>n2875</th>\n",
       "      <th>TACGTAGGATGCAAGCGTTGTCCGGATTTATTGGGCGTAAAGCGAACGTAGGCGGTTTCTTAAGTTTGGTCTTAAAGACTGGGGCTCAACCTCAGGAGTG</th>\n",
       "      <th>n2877</th>\n",
       "      <th>n2878</th>\n",
       "      <th>n2879</th>\n",
       "      <th>n2880</th>\n",
       "      <th>n2881</th>\n",
       "      <th>n2882</th>\n",
       "      <th>n2883</th>\n",
       "      <th>n2884</th>\n",
       "    </tr>\n",
       "  </thead>\n",
       "  <tbody>\n",
       "    <tr>\n",
       "      <th>10333.Manaus.3346.1313696</th>\n",
       "      <td>NaN</td>\n",
       "      <td>NaN</td>\n",
       "      <td>NaN</td>\n",
       "      <td>NaN</td>\n",
       "      <td>NaN</td>\n",
       "      <td>NaN</td>\n",
       "      <td>NaN</td>\n",
       "      <td>NaN</td>\n",
       "      <td>NaN</td>\n",
       "      <td>NaN</td>\n",
       "      <td>...</td>\n",
       "      <td>NaN</td>\n",
       "      <td>NaN</td>\n",
       "      <td>2.323512</td>\n",
       "      <td>6.166042</td>\n",
       "      <td>0.502780</td>\n",
       "      <td>NaN</td>\n",
       "      <td>7.646263</td>\n",
       "      <td>NaN</td>\n",
       "      <td>8.033234</td>\n",
       "      <td>NaN</td>\n",
       "    </tr>\n",
       "    <tr>\n",
       "      <th>10333.Manaus.3546.1313272</th>\n",
       "      <td>NaN</td>\n",
       "      <td>NaN</td>\n",
       "      <td>NaN</td>\n",
       "      <td>NaN</td>\n",
       "      <td>NaN</td>\n",
       "      <td>NaN</td>\n",
       "      <td>NaN</td>\n",
       "      <td>NaN</td>\n",
       "      <td>NaN</td>\n",
       "      <td>NaN</td>\n",
       "      <td>...</td>\n",
       "      <td>-0.227395</td>\n",
       "      <td>NaN</td>\n",
       "      <td>3.190450</td>\n",
       "      <td>7.341456</td>\n",
       "      <td>1.369719</td>\n",
       "      <td>2.246224</td>\n",
       "      <td>8.820795</td>\n",
       "      <td>NaN</td>\n",
       "      <td>9.208047</td>\n",
       "      <td>NaN</td>\n",
       "    </tr>\n",
       "    <tr>\n",
       "      <th>10333.Manaus.3708.1313460</th>\n",
       "      <td>NaN</td>\n",
       "      <td>NaN</td>\n",
       "      <td>NaN</td>\n",
       "      <td>NaN</td>\n",
       "      <td>NaN</td>\n",
       "      <td>NaN</td>\n",
       "      <td>NaN</td>\n",
       "      <td>NaN</td>\n",
       "      <td>NaN</td>\n",
       "      <td>NaN</td>\n",
       "      <td>...</td>\n",
       "      <td>-0.563252</td>\n",
       "      <td>NaN</td>\n",
       "      <td>2.259085</td>\n",
       "      <td>7.342331</td>\n",
       "      <td>0.438353</td>\n",
       "      <td>4.700673</td>\n",
       "      <td>8.820190</td>\n",
       "      <td>0.516811</td>\n",
       "      <td>9.210433</td>\n",
       "      <td>NaN</td>\n",
       "    </tr>\n",
       "    <tr>\n",
       "      <th>10333.Manaus.3318.1313403</th>\n",
       "      <td>NaN</td>\n",
       "      <td>NaN</td>\n",
       "      <td>NaN</td>\n",
       "      <td>NaN</td>\n",
       "      <td>NaN</td>\n",
       "      <td>NaN</td>\n",
       "      <td>NaN</td>\n",
       "      <td>NaN</td>\n",
       "      <td>NaN</td>\n",
       "      <td>NaN</td>\n",
       "      <td>...</td>\n",
       "      <td>2.059303</td>\n",
       "      <td>NaN</td>\n",
       "      <td>4.881639</td>\n",
       "      <td>7.390301</td>\n",
       "      <td>3.060908</td>\n",
       "      <td>NaN</td>\n",
       "      <td>8.879754</td>\n",
       "      <td>NaN</td>\n",
       "      <td>9.266725</td>\n",
       "      <td>NaN</td>\n",
       "    </tr>\n",
       "    <tr>\n",
       "      <th>10333.Manaus.3372.1313934</th>\n",
       "      <td>NaN</td>\n",
       "      <td>NaN</td>\n",
       "      <td>NaN</td>\n",
       "      <td>NaN</td>\n",
       "      <td>NaN</td>\n",
       "      <td>NaN</td>\n",
       "      <td>NaN</td>\n",
       "      <td>NaN</td>\n",
       "      <td>NaN</td>\n",
       "      <td>NaN</td>\n",
       "      <td>...</td>\n",
       "      <td>2.711612</td>\n",
       "      <td>NaN</td>\n",
       "      <td>5.533948</td>\n",
       "      <td>6.412252</td>\n",
       "      <td>3.713217</td>\n",
       "      <td>NaN</td>\n",
       "      <td>7.951667</td>\n",
       "      <td>NaN</td>\n",
       "      <td>8.338637</td>\n",
       "      <td>NaN</td>\n",
       "    </tr>\n",
       "    <tr>\n",
       "      <th>...</th>\n",
       "      <td>...</td>\n",
       "      <td>...</td>\n",
       "      <td>...</td>\n",
       "      <td>...</td>\n",
       "      <td>...</td>\n",
       "      <td>...</td>\n",
       "      <td>...</td>\n",
       "      <td>...</td>\n",
       "      <td>...</td>\n",
       "      <td>...</td>\n",
       "      <td>...</td>\n",
       "      <td>...</td>\n",
       "      <td>...</td>\n",
       "      <td>...</td>\n",
       "      <td>...</td>\n",
       "      <td>...</td>\n",
       "      <td>...</td>\n",
       "      <td>...</td>\n",
       "      <td>...</td>\n",
       "      <td>...</td>\n",
       "      <td>...</td>\n",
       "    </tr>\n",
       "    <tr>\n",
       "      <th>10333.Iqu.1038.huma</th>\n",
       "      <td>NaN</td>\n",
       "      <td>-1.537540</td>\n",
       "      <td>2.084254</td>\n",
       "      <td>-1.518800</td>\n",
       "      <td>NaN</td>\n",
       "      <td>0.953472</td>\n",
       "      <td>-0.627872</td>\n",
       "      <td>1.947267</td>\n",
       "      <td>NaN</td>\n",
       "      <td>NaN</td>\n",
       "      <td>...</td>\n",
       "      <td>7.753710</td>\n",
       "      <td>NaN</td>\n",
       "      <td>10.576837</td>\n",
       "      <td>7.676031</td>\n",
       "      <td>8.756105</td>\n",
       "      <td>NaN</td>\n",
       "      <td>10.494275</td>\n",
       "      <td>4.116036</td>\n",
       "      <td>10.881246</td>\n",
       "      <td>NaN</td>\n",
       "    </tr>\n",
       "    <tr>\n",
       "      <th>10333.Iqu.1127.huma</th>\n",
       "      <td>NaN</td>\n",
       "      <td>-0.424388</td>\n",
       "      <td>2.540627</td>\n",
       "      <td>-0.405648</td>\n",
       "      <td>-2.986250</td>\n",
       "      <td>NaN</td>\n",
       "      <td>0.037255</td>\n",
       "      <td>0.303579</td>\n",
       "      <td>NaN</td>\n",
       "      <td>NaN</td>\n",
       "      <td>...</td>\n",
       "      <td>4.037647</td>\n",
       "      <td>NaN</td>\n",
       "      <td>6.952934</td>\n",
       "      <td>7.513244</td>\n",
       "      <td>5.132202</td>\n",
       "      <td>NaN</td>\n",
       "      <td>9.075093</td>\n",
       "      <td>4.160428</td>\n",
       "      <td>9.462064</td>\n",
       "      <td>NaN</td>\n",
       "    </tr>\n",
       "    <tr>\n",
       "      <th>10333.Iqu.1086.huma</th>\n",
       "      <td>0.54688</td>\n",
       "      <td>-1.201607</td>\n",
       "      <td>2.484726</td>\n",
       "      <td>0.098067</td>\n",
       "      <td>-2.482535</td>\n",
       "      <td>-1.572796</td>\n",
       "      <td>0.238689</td>\n",
       "      <td>1.030437</td>\n",
       "      <td>NaN</td>\n",
       "      <td>NaN</td>\n",
       "      <td>...</td>\n",
       "      <td>4.050882</td>\n",
       "      <td>NaN</td>\n",
       "      <td>6.901675</td>\n",
       "      <td>7.987754</td>\n",
       "      <td>5.080943</td>\n",
       "      <td>3.301627</td>\n",
       "      <td>9.515733</td>\n",
       "      <td>4.228825</td>\n",
       "      <td>9.903107</td>\n",
       "      <td>NaN</td>\n",
       "    </tr>\n",
       "    <tr>\n",
       "      <th>10333.Man.1810.huma</th>\n",
       "      <td>NaN</td>\n",
       "      <td>NaN</td>\n",
       "      <td>NaN</td>\n",
       "      <td>NaN</td>\n",
       "      <td>NaN</td>\n",
       "      <td>NaN</td>\n",
       "      <td>NaN</td>\n",
       "      <td>NaN</td>\n",
       "      <td>NaN</td>\n",
       "      <td>NaN</td>\n",
       "      <td>...</td>\n",
       "      <td>1.295200</td>\n",
       "      <td>NaN</td>\n",
       "      <td>5.123058</td>\n",
       "      <td>6.235983</td>\n",
       "      <td>3.302327</td>\n",
       "      <td>NaN</td>\n",
       "      <td>7.762642</td>\n",
       "      <td>NaN</td>\n",
       "      <td>8.149613</td>\n",
       "      <td>NaN</td>\n",
       "    </tr>\n",
       "    <tr>\n",
       "      <th>10333.Iqu.937.huma</th>\n",
       "      <td>NaN</td>\n",
       "      <td>-2.155993</td>\n",
       "      <td>0.772654</td>\n",
       "      <td>-2.137253</td>\n",
       "      <td>NaN</td>\n",
       "      <td>NaN</td>\n",
       "      <td>-1.716329</td>\n",
       "      <td>NaN</td>\n",
       "      <td>NaN</td>\n",
       "      <td>NaN</td>\n",
       "      <td>...</td>\n",
       "      <td>1.637721</td>\n",
       "      <td>NaN</td>\n",
       "      <td>4.526749</td>\n",
       "      <td>8.214621</td>\n",
       "      <td>2.706017</td>\n",
       "      <td>NaN</td>\n",
       "      <td>9.695396</td>\n",
       "      <td>2.015978</td>\n",
       "      <td>10.082367</td>\n",
       "      <td>NaN</td>\n",
       "    </tr>\n",
       "  </tbody>\n",
       "</table>\n",
       "<p>164 rows × 2885 columns</p>\n",
       "</div>"
      ],
      "text/plain": [
       "                           TACCGGCAGCTCGAGTGATGGCTACTATTATTGGGCCTAAAGCGTCCGTAGCTGGCCGAACAGGTCTGTCGGGAAATCCGCCCGCTTAACGGGCGGACGT  \\\n",
       "10333.Manaus.3346.1313696                                                NaN                                                      \n",
       "10333.Manaus.3546.1313272                                                NaN                                                      \n",
       "10333.Manaus.3708.1313460                                                NaN                                                      \n",
       "10333.Manaus.3318.1313403                                                NaN                                                      \n",
       "10333.Manaus.3372.1313934                                                NaN                                                      \n",
       "...                                                                      ...                                                      \n",
       "10333.Iqu.1038.huma                                                      NaN                                                      \n",
       "10333.Iqu.1127.huma                                                      NaN                                                      \n",
       "10333.Iqu.1086.huma                                                  0.54688                                                      \n",
       "10333.Man.1810.huma                                                      NaN                                                      \n",
       "10333.Iqu.937.huma                                                       NaN                                                      \n",
       "\n",
       "                           TACCGGCAGCTCGAGTGATGGCCAATATTATTGGGCCTAAAGCGTCCGTAGCTGGCCGAACAGGTCTGTCGGGAAATCCGCTCGCTCAACGAGCGGACGT  \\\n",
       "10333.Manaus.3346.1313696                                                NaN                                                      \n",
       "10333.Manaus.3546.1313272                                                NaN                                                      \n",
       "10333.Manaus.3708.1313460                                                NaN                                                      \n",
       "10333.Manaus.3318.1313403                                                NaN                                                      \n",
       "10333.Manaus.3372.1313934                                                NaN                                                      \n",
       "...                                                                      ...                                                      \n",
       "10333.Iqu.1038.huma                                                -1.537540                                                      \n",
       "10333.Iqu.1127.huma                                                -0.424388                                                      \n",
       "10333.Iqu.1086.huma                                                -1.201607                                                      \n",
       "10333.Man.1810.huma                                                      NaN                                                      \n",
       "10333.Iqu.937.huma                                                 -2.155993                                                      \n",
       "\n",
       "                           TACCGGCAGCACGAGTGATGACCGCTATTATTGGGCCTAAAGCGTCCGTAGCTGGCCGCACAAGTCTATCGGGAAATCTGCGTGCTTAACGCGCAGGCGT  \\\n",
       "10333.Manaus.3346.1313696                                                NaN                                                      \n",
       "10333.Manaus.3546.1313272                                                NaN                                                      \n",
       "10333.Manaus.3708.1313460                                                NaN                                                      \n",
       "10333.Manaus.3318.1313403                                                NaN                                                      \n",
       "10333.Manaus.3372.1313934                                                NaN                                                      \n",
       "...                                                                      ...                                                      \n",
       "10333.Iqu.1038.huma                                                 2.084254                                                      \n",
       "10333.Iqu.1127.huma                                                 2.540627                                                      \n",
       "10333.Iqu.1086.huma                                                 2.484726                                                      \n",
       "10333.Man.1810.huma                                                      NaN                                                      \n",
       "10333.Iqu.937.huma                                                  0.772654                                                      \n",
       "\n",
       "                                 n3  \\\n",
       "10333.Manaus.3346.1313696       NaN   \n",
       "10333.Manaus.3546.1313272       NaN   \n",
       "10333.Manaus.3708.1313460       NaN   \n",
       "10333.Manaus.3318.1313403       NaN   \n",
       "10333.Manaus.3372.1313934       NaN   \n",
       "...                             ...   \n",
       "10333.Iqu.1038.huma       -1.518800   \n",
       "10333.Iqu.1127.huma       -0.405648   \n",
       "10333.Iqu.1086.huma        0.098067   \n",
       "10333.Man.1810.huma             NaN   \n",
       "10333.Iqu.937.huma        -2.137253   \n",
       "\n",
       "                           TACCGGCAGCTCGAGTGATAGCCACTATTATTGGGCCTAAAGCGTCCGTAGCCGGCCGAACAGGTCCGTCGGGAAATCCACCCGCTCAACGGGTGGACGT  \\\n",
       "10333.Manaus.3346.1313696                                                NaN                                                      \n",
       "10333.Manaus.3546.1313272                                                NaN                                                      \n",
       "10333.Manaus.3708.1313460                                                NaN                                                      \n",
       "10333.Manaus.3318.1313403                                                NaN                                                      \n",
       "10333.Manaus.3372.1313934                                                NaN                                                      \n",
       "...                                                                      ...                                                      \n",
       "10333.Iqu.1038.huma                                                      NaN                                                      \n",
       "10333.Iqu.1127.huma                                                -2.986250                                                      \n",
       "10333.Iqu.1086.huma                                                -2.482535                                                      \n",
       "10333.Man.1810.huma                                                      NaN                                                      \n",
       "10333.Iqu.937.huma                                                       NaN                                                      \n",
       "\n",
       "                           TACCGGCAGCACGAGTGATAGCCACTATTATTGGGCCTAAAGCGTCCGTAGCCGGCCGAACAGGTCCATCGGGAAATCCACCCGCTCAACGGGTGGACGT  \\\n",
       "10333.Manaus.3346.1313696                                                NaN                                                      \n",
       "10333.Manaus.3546.1313272                                                NaN                                                      \n",
       "10333.Manaus.3708.1313460                                                NaN                                                      \n",
       "10333.Manaus.3318.1313403                                                NaN                                                      \n",
       "10333.Manaus.3372.1313934                                                NaN                                                      \n",
       "...                                                                      ...                                                      \n",
       "10333.Iqu.1038.huma                                                 0.953472                                                      \n",
       "10333.Iqu.1127.huma                                                      NaN                                                      \n",
       "10333.Iqu.1086.huma                                                -1.572796                                                      \n",
       "10333.Man.1810.huma                                                      NaN                                                      \n",
       "10333.Iqu.937.huma                                                       NaN                                                      \n",
       "\n",
       "                                 n6        n7  \\\n",
       "10333.Manaus.3346.1313696       NaN       NaN   \n",
       "10333.Manaus.3546.1313272       NaN       NaN   \n",
       "10333.Manaus.3708.1313460       NaN       NaN   \n",
       "10333.Manaus.3318.1313403       NaN       NaN   \n",
       "10333.Manaus.3372.1313934       NaN       NaN   \n",
       "...                             ...       ...   \n",
       "10333.Iqu.1038.huma       -0.627872  1.947267   \n",
       "10333.Iqu.1127.huma        0.037255  0.303579   \n",
       "10333.Iqu.1086.huma        0.238689  1.030437   \n",
       "10333.Man.1810.huma             NaN       NaN   \n",
       "10333.Iqu.937.huma        -1.716329       NaN   \n",
       "\n",
       "                           TACCAGCCCCCCGAGTGGTCGGGACGATTATTGGGCCTAAAGCATCCGTAGCCGGCCTTACAAGTCCTCCGTTAAATCCAGCTGCTTAACAGATGGGCTG  \\\n",
       "10333.Manaus.3346.1313696                                                NaN                                                      \n",
       "10333.Manaus.3546.1313272                                                NaN                                                      \n",
       "10333.Manaus.3708.1313460                                                NaN                                                      \n",
       "10333.Manaus.3318.1313403                                                NaN                                                      \n",
       "10333.Manaus.3372.1313934                                                NaN                                                      \n",
       "...                                                                      ...                                                      \n",
       "10333.Iqu.1038.huma                                                      NaN                                                      \n",
       "10333.Iqu.1127.huma                                                      NaN                                                      \n",
       "10333.Iqu.1086.huma                                                      NaN                                                      \n",
       "10333.Man.1810.huma                                                      NaN                                                      \n",
       "10333.Iqu.937.huma                                                       NaN                                                      \n",
       "\n",
       "                           TACCAGCACCCCGAGTGGTCGGGACGATTATTGGGCCTAAAGCATCCGTAGCCGGCCTTACAAGTCCTCCGTTAAATCCAGCTGCTTAACAGATGGGCTG  \\\n",
       "10333.Manaus.3346.1313696                                                NaN                                                      \n",
       "10333.Manaus.3546.1313272                                                NaN                                                      \n",
       "10333.Manaus.3708.1313460                                                NaN                                                      \n",
       "10333.Manaus.3318.1313403                                                NaN                                                      \n",
       "10333.Manaus.3372.1313934                                                NaN                                                      \n",
       "...                                                                      ...                                                      \n",
       "10333.Iqu.1038.huma                                                      NaN                                                      \n",
       "10333.Iqu.1127.huma                                                      NaN                                                      \n",
       "10333.Iqu.1086.huma                                                      NaN                                                      \n",
       "10333.Man.1810.huma                                                      NaN                                                      \n",
       "10333.Iqu.937.huma                                                       NaN                                                      \n",
       "\n",
       "                           ...     n2875  \\\n",
       "10333.Manaus.3346.1313696  ...       NaN   \n",
       "10333.Manaus.3546.1313272  ... -0.227395   \n",
       "10333.Manaus.3708.1313460  ... -0.563252   \n",
       "10333.Manaus.3318.1313403  ...  2.059303   \n",
       "10333.Manaus.3372.1313934  ...  2.711612   \n",
       "...                        ...       ...   \n",
       "10333.Iqu.1038.huma        ...  7.753710   \n",
       "10333.Iqu.1127.huma        ...  4.037647   \n",
       "10333.Iqu.1086.huma        ...  4.050882   \n",
       "10333.Man.1810.huma        ...  1.295200   \n",
       "10333.Iqu.937.huma         ...  1.637721   \n",
       "\n",
       "                           TACGTAGGATGCAAGCGTTGTCCGGATTTATTGGGCGTAAAGCGAACGTAGGCGGTTTCTTAAGTTTGGTCTTAAAGACTGGGGCTCAACCTCAGGAGTG  \\\n",
       "10333.Manaus.3346.1313696                                                NaN                                                      \n",
       "10333.Manaus.3546.1313272                                                NaN                                                      \n",
       "10333.Manaus.3708.1313460                                                NaN                                                      \n",
       "10333.Manaus.3318.1313403                                                NaN                                                      \n",
       "10333.Manaus.3372.1313934                                                NaN                                                      \n",
       "...                                                                      ...                                                      \n",
       "10333.Iqu.1038.huma                                                      NaN                                                      \n",
       "10333.Iqu.1127.huma                                                      NaN                                                      \n",
       "10333.Iqu.1086.huma                                                      NaN                                                      \n",
       "10333.Man.1810.huma                                                      NaN                                                      \n",
       "10333.Iqu.937.huma                                                       NaN                                                      \n",
       "\n",
       "                               n2877     n2878     n2879     n2880      n2881  \\\n",
       "10333.Manaus.3346.1313696   2.323512  6.166042  0.502780       NaN   7.646263   \n",
       "10333.Manaus.3546.1313272   3.190450  7.341456  1.369719  2.246224   8.820795   \n",
       "10333.Manaus.3708.1313460   2.259085  7.342331  0.438353  4.700673   8.820190   \n",
       "10333.Manaus.3318.1313403   4.881639  7.390301  3.060908       NaN   8.879754   \n",
       "10333.Manaus.3372.1313934   5.533948  6.412252  3.713217       NaN   7.951667   \n",
       "...                              ...       ...       ...       ...        ...   \n",
       "10333.Iqu.1038.huma        10.576837  7.676031  8.756105       NaN  10.494275   \n",
       "10333.Iqu.1127.huma         6.952934  7.513244  5.132202       NaN   9.075093   \n",
       "10333.Iqu.1086.huma         6.901675  7.987754  5.080943  3.301627   9.515733   \n",
       "10333.Man.1810.huma         5.123058  6.235983  3.302327       NaN   7.762642   \n",
       "10333.Iqu.937.huma          4.526749  8.214621  2.706017       NaN   9.695396   \n",
       "\n",
       "                              n2882      n2883  n2884  \n",
       "10333.Manaus.3346.1313696       NaN   8.033234    NaN  \n",
       "10333.Manaus.3546.1313272       NaN   9.208047    NaN  \n",
       "10333.Manaus.3708.1313460  0.516811   9.210433    NaN  \n",
       "10333.Manaus.3318.1313403       NaN   9.266725    NaN  \n",
       "10333.Manaus.3372.1313934       NaN   8.338637    NaN  \n",
       "...                             ...        ...    ...  \n",
       "10333.Iqu.1038.huma        4.116036  10.881246    NaN  \n",
       "10333.Iqu.1127.huma        4.160428   9.462064    NaN  \n",
       "10333.Iqu.1086.huma        4.228825   9.903107    NaN  \n",
       "10333.Man.1810.huma             NaN   8.149613    NaN  \n",
       "10333.Iqu.937.huma         2.015978  10.082367    NaN  \n",
       "\n",
       "[164 rows x 2885 columns]"
      ]
     },
     "execution_count": 24,
     "metadata": {},
     "output_type": "execute_result"
    }
   ],
   "source": [
    "df_table_phylo_rclr"
   ]
  },
  {
   "cell_type": "code",
   "execution_count": 25,
   "metadata": {},
   "outputs": [],
   "source": [
    "feature_loading_phyloRPCA_3d, sample_loading_phyloRPCA_3d, eigvals_phyloRPCA_3d, proportion_explained_phyloRPCA_3d, distance_phyloRPCA_3d = rpca_table(df_table_phylo_rclr, 3)"
   ]
  },
  {
   "cell_type": "code",
   "execution_count": 26,
   "metadata": {},
   "outputs": [],
   "source": [
    "import matplotlib.pyplot as plt\n",
    "\n",
    "def plot_2d(sample_loading, proportion_explained=None):\n",
    "    fig, ax = plt.subplots()\n",
    "    if isinstance(sample_loading, pd.DataFrame):\n",
    "        scatter = ax.scatter(\n",
    "            sample_loading['PC1'],\n",
    "            sample_loading['PC2'],\n",
    "            c=colors,\n",
    "            cmap='viridis',\n",
    "            s=8,\n",
    "            alpha=0.8\n",
    "        )\n",
    "        if proportion_explained is not None:\n",
    "            ax.set_xlabel('PC1: {:.0%}'.format(proportion_explained[0]))\n",
    "            ax.set_ylabel('PC2: {:.0%}'.format(proportion_explained[1]))\n",
    "        else:\n",
    "            ax.set_xlabel('PC1')\n",
    "            ax.set_ylabel('PC2')\n",
    "    elif isinstance(sample_loading, np.ndarray):\n",
    "        scatter = ax.scatter(\n",
    "            sample_loading[:,0],\n",
    "            sample_loading[:,1],\n",
    "            c=colors,\n",
    "            cmap='viridis',\n",
    "            s=8,\n",
    "            alpha=0.8\n",
    "        )\n",
    "        if proportion_explained is not None:\n",
    "            ax.set_xlabel('PC1: {:.0%}'.format(proportion_explained[0]))\n",
    "            ax.set_ylabel('PC2: {:.0%}'.format(proportion_explained[1]))\n",
    "        else:\n",
    "            ax.set_xlabel('PC1')\n",
    "            ax.set_ylabel('PC2')\n",
    "    # 创建图例\n",
    "    legend_elements = [\n",
    "        plt.Line2D([0], [0], marker='o', color='w', label='Checherta', markerfacecolor='#1f78b4', markersize=5),\n",
    "        plt.Line2D([0], [0], marker='o', color='w', label='Iquitos', markerfacecolor='#a6cee3', markersize=5),\n",
    "        plt.Line2D([0], [0], marker='o', color='w', label='Manaus', markerfacecolor='#ff7f00', markersize=5)\n",
    "    ]\n",
    "    ax.legend(handles=legend_elements)\n",
    "    plt.show()\n"
   ]
  },
  {
   "cell_type": "code",
   "execution_count": 27,
   "metadata": {},
   "outputs": [],
   "source": [
    "import matplotlib.pyplot as plt\n",
    "\n",
    "\n",
    "def normalize_colors(colors):\n",
    "    normalized_colors = []\n",
    "    for color in colors:\n",
    "        normalized_color = tuple(c/255 for c in color)\n",
    "        normalized_colors.append(normalized_color)\n",
    "    return normalized_colors\n",
    "\n",
    "def plot_bar(data_dict, colors=None, rotate=0, label_offset=0, title='Bar Chart', xlabel=None, ylabel='Length',fontsize=15):\n",
    "    methods = list(data_dict.keys())\n",
    "    lengths = list(data_dict.values())\n",
    "\n",
    "    fig, ax = plt.subplots()\n",
    "\n",
    "    if colors is None:\n",
    "        colors = 'skyblue'\n",
    "    elif colors[0][0] > 1:\n",
    "        colors = normalize_colors(colors)\n",
    "    ax.bar(methods, lengths, color=colors)\n",
    "    ax.set_title(title)\n",
    "    ax.set_xlabel(xlabel, fontsize=fontsize)\n",
    "    ax.set_ylabel(ylabel, fontsize=fontsize)\n",
    "    ax.tick_params(axis='x', rotation=rotate)\n",
    "\n",
    "    for tick in ax.get_xticklabels():\n",
    "        tick.set_size(fontsize)\n",
    "        tick.set_ha('right')\n",
    "        tick.set_rotation(rotate)\n",
    "        tick.set_position((0,label_offset))\n",
    "\n",
    "    plt.show()"
   ]
  },
  {
   "cell_type": "code",
   "execution_count": 28,
   "metadata": {},
   "outputs": [],
   "source": [
    "def plot_box(data_dict, metric='auprc', colors=None, rotate=45, label_offset=0, title='Bar Chart', xlabel=None, ylabel='Length',fontsize=15):\n",
    "    labels = data_dict.keys()  # 标签\n",
    "    fig, ax = plt.subplots()\n",
    "    data = [metric_dict[metric] for metric_dict in data_dict.values()]\n",
    "    # 绘制箱线图\n",
    "    boxplot = ax.boxplot(data, patch_artist=True, labels=labels)\n",
    "\n",
    "    if colors is None:\n",
    "        colors = 'skyblue'\n",
    "    elif type(colors[0]) == str:\n",
    "        colors = [colors]*len(labels)\n",
    "    elif colors[0][0] > 1:\n",
    "        colors = normalize_colors(colors)\n",
    "    # 设置箱线图的颜色\n",
    "    for patch,color in zip(boxplot['boxes'], colors):\n",
    "        # r, g, b, a = patch.get_facecolor()\n",
    "        if type(color) == str:\n",
    "            patch.set_facecolor(color)\n",
    "        else:\n",
    "            patch.set_facecolor((color[0], color[1], color[2], 0.5))\n",
    "\n",
    "    ax.set_title(title)  # 设置标题\n",
    "    ax.set_xlabel(xlabel)  # 设置x轴标签\n",
    "    ax.set_ylabel(ylabel)  # 设置y轴标签\n",
    "\n",
    "    # 添加散点图\n",
    "    for (i,dat), color in zip(enumerate(data, 1), colors):\n",
    "        jitter = np.random.normal(0, 0.04, size=len(dat))\n",
    "        ax.scatter(np.full(len(dat), i) + jitter, dat, alpha=0.5, color='black', zorder=3)\n",
    "\n",
    "    for tick in ax.get_xticklabels():\n",
    "        tick.set_size(fontsize)\n",
    "        tick.set_ha('right')\n",
    "        tick.set_rotation(rotate)\n",
    "        tick.set_position((0,label_offset))\n",
    "    # # 显示图例\n",
    "    # ax.legend()\n",
    "\n",
    "    plt.show()"
   ]
  },
  {
   "cell_type": "code",
   "execution_count": 29,
   "metadata": {},
   "outputs": [
    {
     "name": "stderr",
     "output_type": "stream",
     "text": [
      "/tmp/ipykernel_643920/3486924713.py:6: UserWarning: No data for colormapping provided via 'c'. Parameters 'cmap' will be ignored\n",
      "  scatter = ax.scatter(\n"
     ]
    },
    {
     "data": {
      "image/png": "[encoded data removed]",
      "text/plain": [
       "<Figure size 640x480 with 1 Axes>"
      ]
     },
     "metadata": {},
     "output_type": "display_data"
    }
   ],
   "source": [
    "plot_2d(sample_loading_abundance_3d)"
   ]
  },
  {
   "cell_type": "code",
   "execution_count": 30,
   "metadata": {},
   "outputs": [
    {
     "name": "stderr",
     "output_type": "stream",
     "text": [
      "/tmp/ipykernel_643920/3486924713.py:6: UserWarning: No data for colormapping provided via 'c'. Parameters 'cmap' will be ignored\n",
      "  scatter = ax.scatter(\n"
     ]
    },
    {
     "data": {
      "image/png": "[encoded data removed]",
      "text/plain": [
       "<Figure size 640x480 with 1 Axes>"
      ]
     },
     "metadata": {},
     "output_type": "display_data"
    }
   ],
   "source": [
    "plot_2d(sample_loading_phyloRPCA_3d)"
   ]
  },
  {
   "cell_type": "markdown",
   "metadata": {},
   "source": [
    "## RPCA with abundance + PCA dimenditon reduction with phylogenetic information"
   ]
  },
  {
   "cell_type": "code",
   "execution_count": 32,
   "metadata": {},
   "outputs": [],
   "source": [
    "def summary(array):\n",
    "    print('mean:', array.mean(), 'std:', array.std(), 'min:', array.min(), 'max:', array.max())"
   ]
  },
  {
   "cell_type": "code",
   "execution_count": 33,
   "metadata": {},
   "outputs": [],
   "source": [
    "def normalize(data, axis=0):\n",
    "    mean = np.mean(data, axis=axis)\n",
    "    std = np.std(data, axis=axis)\n",
    "    normalized_data = (data - mean) / std\n",
    "    return normalized_data"
   ]
  },
  {
   "cell_type": "code",
   "execution_count": 34,
   "metadata": {},
   "outputs": [],
   "source": [
    "fid_seq_list = []\n",
    "for fid in bt.ids('observation'):\n",
    "    fid_seq_list.append(fid)"
   ]
  },
  {
   "cell_type": "code",
   "execution_count": 35,
   "metadata": {},
   "outputs": [],
   "source": [
    "distance_matrix = np.zeros((len(fid_seq_list), len(fid_seq_list)))\n",
    "for node1 in tntree.tips():\n",
    "    i = fid_seq_list.index(node1.name)\n",
    "    for node2 in tntree.tips():\n",
    "        j = fid_seq_list.index(node2.name)\n",
    "        distance_matrix[i, j] = node1.distance(node2)"
   ]
  },
  {
   "cell_type": "code",
   "execution_count": 36,
   "metadata": {},
   "outputs": [
    {
     "name": "stderr",
     "output_type": "stream",
     "text": [
      "/opt/miniconda/envs/qiime2-tiny-2023.9/lib/python3.8/site-packages/tqdm/auto.py:21: TqdmWarning: IProgress not found. Please update jupyter and ipywidgets. See https://ipywidgets.readthedocs.io/en/stable/user_install.html\n",
      "  from .autonotebook import tqdm as notebook_tqdm\n"
     ]
    }
   ],
   "source": [
    "import umap.umap_ as umap\n",
    "from sklearn.manifold import TSNE\n",
    "from sklearn.decomposition import PCA\n",
    "\n",
    "def reducer(data_matrix, method='pca', n_components=2, whiten=False):\n",
    "    if method == 'umap':\n",
    "        reducer = umap.UMAP(n_components=n_components)\n",
    "    elif method == 'tsne':\n",
    "        reducer = TSNE(n_components=n_components)\n",
    "    elif method == 'pca':\n",
    "        reducer = PCA(n_components=n_components, whiten=whiten)\n",
    "        embedding = reducer.fit_transform(data_matrix)\n",
    "        return embedding\n",
    "    else:\n",
    "        raise ValueError('Unrecognized method: %s' % method)\n",
    "\n",
    "    return reducer.fit_transform(data_matrix)\n"
   ]
  },
  {
   "cell_type": "code",
   "execution_count": 86,
   "metadata": {},
   "outputs": [],
   "source": [
    "otu_evol_embedding = reducer(distance_matrix, 'pca', 200)"
   ]
  },
  {
   "cell_type": "code",
   "execution_count": 87,
   "metadata": {},
   "outputs": [
    {
     "data": {
      "text/plain": [
       "(1443, 200)"
      ]
     },
     "execution_count": 87,
     "metadata": {},
     "output_type": "execute_result"
    }
   ],
   "source": [
    "otu_evol_embedding.shape"
   ]
  },
  {
   "cell_type": "code",
   "execution_count": 88,
   "metadata": {},
   "outputs": [
    {
     "name": "stdout",
     "output_type": "stream",
     "text": [
      "mean: 3.324360114206775e-17 std: 0.5857400470164771 min: -8.594991691240615 max: 25.795232593126443\n"
     ]
    }
   ],
   "source": [
    "summary(otu_evol_embedding)"
   ]
  },
  {
   "cell_type": "code",
   "execution_count": 89,
   "metadata": {},
   "outputs": [],
   "source": [
    "# get sample evolutionary feature based on otu embedding\n",
    "\n",
    "def get_evol_feature(table_matrix_rclr, embeddings):\n",
    "    evol_feature = []\n",
    "    for i in range(len(table_matrix_rclr)):\n",
    "        row = table_matrix_rclr[i]\n",
    "        idxs = np.where(~np.isnan(row))[0]\n",
    "        evol_embeds = np.array([embeddings[i] for i in idxs]).sum(axis=0)\n",
    "        evol_feature.append(evol_embeds)\n",
    "    return np.array(evol_feature)"
   ]
  },
  {
   "cell_type": "code",
   "execution_count": 111,
   "metadata": {},
   "outputs": [],
   "source": [
    "evol_feature = get_evol_feature(table_matrix_rclr, otu_evol_embedding)"
   ]
  },
  {
   "cell_type": "code",
   "execution_count": 112,
   "metadata": {},
   "outputs": [
    {
     "name": "stdout",
     "output_type": "stream",
     "text": [
      "mean: 0.043360562289304676 std: 19.91675138707449 min: -629.2013088662483 max: 502.9631403382233\n"
     ]
    }
   ],
   "source": [
    "summary(evol_feature)"
   ]
  },
  {
   "cell_type": "code",
   "execution_count": 116,
   "metadata": {},
   "outputs": [],
   "source": [
    "evol_feature_normalized = normalize(evol_feature)"
   ]
  },
  {
   "cell_type": "code",
   "execution_count": 117,
   "metadata": {},
   "outputs": [
    {
     "name": "stdout",
     "output_type": "stream",
     "text": [
      "mean: 1.5353572072255215e-17 std: 1.0 min: -4.210734842236139 max: 4.247082623569007\n"
     ]
    }
   ],
   "source": [
    "summary(evol_feature_normalized)"
   ]
  },
  {
   "cell_type": "markdown",
   "metadata": {},
   "source": [
    "### Sample Feature Fusion: Abundance feature + Evolutionary feature"
   ]
  },
  {
   "cell_type": "code",
   "execution_count": 168,
   "metadata": {},
   "outputs": [],
   "source": [
    "feature_loading_abundance_20d, sample_loading_abundance_20d, eigvals_abundance_20d, proportion_explained_abundance_20d, distance_abundance_20d = rpca_table(df_table_abundance_rclr, 20)"
   ]
  },
  {
   "cell_type": "code",
   "execution_count": 169,
   "metadata": {},
   "outputs": [],
   "source": [
    "sample_reduced = []\n",
    "for i, row in sample_loading_abundance_20d.iterrows():\n",
    "    elements = [v for v in row.values]\n",
    "    sample_reduced.append(elements)\n",
    "\n",
    "sample_abundance_feature_20d = np.array(sample_reduced)"
   ]
  },
  {
   "cell_type": "code",
   "execution_count": 170,
   "metadata": {},
   "outputs": [
    {
     "data": {
      "text/plain": [
       "(164, 20)"
      ]
     },
     "execution_count": 170,
     "metadata": {},
     "output_type": "execute_result"
    }
   ],
   "source": [
    "sample_abundance_feature_20d.shape"
   ]
  },
  {
   "cell_type": "code",
   "execution_count": 172,
   "metadata": {},
   "outputs": [],
   "source": [
    "sample_evol_feature_20d = reducer(evol_feature_normalized, method='pca', n_components=20)"
   ]
  },
  {
   "cell_type": "code",
   "execution_count": 173,
   "metadata": {},
   "outputs": [
    {
     "name": "stdout",
     "output_type": "stream",
     "text": [
      "mean: 1.4893235696191124e-18 std: 0.07808688094430302 min: -0.3321009263902723 max: 0.47890071884389324\n"
     ]
    }
   ],
   "source": [
    "summary(sample_abundance_feature_20d)"
   ]
  },
  {
   "cell_type": "code",
   "execution_count": 174,
   "metadata": {},
   "outputs": [
    {
     "name": "stdout",
     "output_type": "stream",
     "text": [
      "mean: 1.7330310628295126e-17 std: 2.3274032139915337 min: -7.506036323928815 max: 15.318566552930978\n"
     ]
    }
   ],
   "source": [
    "summary(sample_evol_feature_20d)"
   ]
  },
  {
   "cell_type": "code",
   "execution_count": 175,
   "metadata": {},
   "outputs": [],
   "source": [
    "sample_abundance_feature_20d_normalized = normalize(sample_abundance_feature_20d)"
   ]
  },
  {
   "cell_type": "code",
   "execution_count": 176,
   "metadata": {},
   "outputs": [
    {
     "name": "stdout",
     "output_type": "stream",
     "text": [
      "mean: 2.166288828536891e-18 std: 1.0 min: -4.252966982086911 max: 6.132921600306693\n"
     ]
    }
   ],
   "source": [
    "summary(sample_abundance_feature_20d_normalized)"
   ]
  },
  {
   "cell_type": "code",
   "execution_count": 177,
   "metadata": {},
   "outputs": [
    {
     "name": "stdout",
     "output_type": "stream",
     "text": [
      "mean: 9.206727521281786e-18 std: 1.0 min: -3.107619347301803 max: 4.320800834526989\n"
     ]
    }
   ],
   "source": [
    "sample_evol_feature_20d_normalized = normalize(sample_evol_feature_20d)\n",
    "summary(sample_evol_feature_20d_normalized)"
   ]
  },
  {
   "cell_type": "code",
   "execution_count": 178,
   "metadata": {},
   "outputs": [
    {
     "data": {
      "text/plain": [
       "(164, 40)"
      ]
     },
     "execution_count": 178,
     "metadata": {},
     "output_type": "execute_result"
    }
   ],
   "source": [
    "# 特征融合\n",
    "sample_merged_feature = np.concatenate([sample_abundance_feature_20d_normalized, sample_evol_feature_20d_normalized], axis=1)\n",
    "sample_merged_feature.shape"
   ]
  },
  {
   "cell_type": "code",
   "execution_count": 237,
   "metadata": {},
   "outputs": [],
   "source": [
    "sample_merged_feature_2d = reducer(sample_merged_feature, method='pca', n_components=2)"
   ]
  },
  {
   "cell_type": "code",
   "execution_count": 238,
   "metadata": {},
   "outputs": [
    {
     "name": "stderr",
     "output_type": "stream",
     "text": [
      "/tmp/ipykernel_623235/3486924713.py:6: UserWarning: No data for colormapping provided via 'c'. Parameters 'cmap' will be ignored\n",
      "  scatter = ax.scatter(\n"
     ]
    },
    {
     "data": {
      "image/png": "[encoded data removed]",
      "text/plain": [
       "<Figure size 640x480 with 1 Axes>"
      ]
     },
     "metadata": {},
     "output_type": "display_data"
    }
   ],
   "source": [
    "plot_2d(sample_loading_abundance_3d)"
   ]
  },
  {
   "cell_type": "code",
   "execution_count": 239,
   "metadata": {},
   "outputs": [
    {
     "name": "stderr",
     "output_type": "stream",
     "text": [
      "/tmp/ipykernel_623235/3486924713.py:21: UserWarning: No data for colormapping provided via 'c'. Parameters 'cmap' will be ignored\n",
      "  scatter = ax.scatter(\n"
     ]
    },
    {
     "data": {
      "image/png": "[encoded data removed]",
      "text/plain": [
       "<Figure size 640x480 with 1 Axes>"
      ]
     },
     "metadata": {},
     "output_type": "display_data"
    }
   ],
   "source": [
    "plot_2d(sample_evol_feature_20d_normalized)"
   ]
  },
  {
   "cell_type": "code",
   "execution_count": 240,
   "metadata": {},
   "outputs": [
    {
     "name": "stderr",
     "output_type": "stream",
     "text": [
      "/tmp/ipykernel_623235/3486924713.py:21: UserWarning: No data for colormapping provided via 'c'. Parameters 'cmap' will be ignored\n",
      "  scatter = ax.scatter(\n"
     ]
    },
    {
     "data": {
      "image/png": "[encoded data removed]",
      "text/plain": [
       "<Figure size 640x480 with 1 Axes>"
      ]
     },
     "metadata": {},
     "output_type": "display_data"
    }
   ],
   "source": [
    "plot_2d(sample_merged_feature_2d)"
   ]
  },
  {
   "cell_type": "markdown",
   "metadata": {},
   "source": [
    "## Evaluation metrics"
   ]
  },
  {
   "cell_type": "code",
   "execution_count": 133,
   "metadata": {},
   "outputs": [],
   "source": [
    "from sklearn.model_selection import StratifiedShuffleSplit\n",
    "from sklearn.preprocessing import label_binarize\n",
    "from sklearn.neighbors import KNeighborsClassifier\n",
    "from sklearn.cluster import KMeans\n",
    "from sklearn.metrics import adjusted_rand_score, silhouette_score, completeness_score, homogeneity_score\n",
    "from sklearn.metrics import roc_auc_score, average_precision_score, precision_recall_curve, auc\n",
    "import numpy as np\n",
    "import pandas as pd\n",
    "\n",
    "def get_metrics_auc_aps(sample_loadings_dict, labels_int):\n",
    "    results = {}\n",
    "    classes_ = list(set(labels_int))\n",
    "    y = label_binarize(labels_int, classes=classes_)\n",
    "    \n",
    "    # 实例化分层抽样对象\n",
    "    sss = StratifiedShuffleSplit(n_splits=10, test_size=0.5, random_state=42)\n",
    "    sss.get_n_splits(list(sample_loadings_dict.values())[0])\n",
    "\n",
    "    for key, data in sample_loadings_dict.items():\n",
    "        if isinstance(data, pd.DataFrame):\n",
    "            X = data.values\n",
    "        elif isinstance(data, np.ndarray):\n",
    "            X = data\n",
    "        else:\n",
    "            raise ValueError('Unrecognized data type: %s' % type(data))\n",
    "\n",
    "        roc_auc_scores = []\n",
    "        aps_auc_scores = []\n",
    "        auprc_scores = []\n",
    "        for fold, (train_index, test_index) in enumerate(sss.split(X, y.argmax(1))):\n",
    "            X_train, X_test = X[train_index], X[test_index]\n",
    "            y_train, y_test = y[train_index], y[test_index]\n",
    "            classifier = KNeighborsClassifier(n_neighbors=40)\n",
    "            model_tmp = classifier.fit(X_train, y_train)\n",
    "            y_score = model_tmp.predict_proba(X_test)\n",
    "            y_score = np.vstack([y_score_class[:, 1] for y_score_class in y_score]).T\n",
    "            avergage_roc_auc = roc_auc_score(y_test, y_score, average='macro')\n",
    "            avergage_aps_auc = average_precision_score(y_test, y_score)\n",
    "            precision = dict()\n",
    "            recall = dict()\n",
    "            aupr = dict()\n",
    "            for i in range(len(classes_)):\n",
    "                precision[i], recall[i], _ = precision_recall_curve(y_test[:, i], y_score[:, i])\n",
    "                aupr[i] = auc(recall[i], precision[i])\n",
    "\n",
    "            roc_auc_scores.append(avergage_roc_auc)\n",
    "            aps_auc_scores.append(avergage_aps_auc)\n",
    "            auprc_scores.append(np.mean([aupr[i] for i in range(len(classes_))]))\n",
    "\n",
    "        results[key] = {'roc_auc': roc_auc_scores, 'aps': aps_auc_scores, 'auprc': auprc_scores}\n",
    "\n",
    "    return results\n",
    "\n",
    "def unsupervised_clustering(sample_loadings_dict, labels_int):\n",
    "    classes_ = list(set(labels_int))\n",
    "    n_clusters = len(classes_)\n",
    "\n",
    "    results = {}\n",
    "    visuliza_info = {}\n",
    "    for key, data in sample_loadings_dict.items():\n",
    "        if isinstance(data, pd.DataFrame):\n",
    "            X = data.values\n",
    "        elif isinstance(data, np.ndarray):\n",
    "            X = data\n",
    "        else:\n",
    "            raise ValueError('Unrecognized data type: %s' % type(data))\n",
    "\n",
    "        # 初始化K-means聚类器\n",
    "        kmeans = KMeans(n_clusters=n_clusters, random_state=0)\n",
    "        # 用数据进行聚类\n",
    "        kmeans.fit(X)\n",
    "        # 获取预测的标签\n",
    "        predicted_labels = kmeans.labels_\n",
    "        ars = adjusted_rand_score(labels_int, predicted_labels)\n",
    "        ss = silhouette_score(X, predicted_labels)\n",
    "        cs = completeness_score(labels_int, predicted_labels)\n",
    "        hs = homogeneity_score(labels_int, predicted_labels)\n",
    "        results[key] = {'adjusted_rand_score': ars, \n",
    "                        'silhouette_score': ss, \n",
    "                        'completeness_score': cs, \n",
    "                        'homogeneity_score': hs}\n",
    "        visuliza_info[key] = {'predicted_labels': predicted_labels, \n",
    "                        'center': kmeans.cluster_centers_}\n",
    "\n",
    "    return results, visuliza_info"
   ]
  },
  {
   "cell_type": "markdown",
   "metadata": {},
   "source": [
    "## permanova 检验"
   ]
  },
  {
   "cell_type": "code",
   "execution_count": 184,
   "metadata": {},
   "outputs": [],
   "source": [
    "from skbio.stats.distance import permanova\n",
    "from skbio import DistanceMatrix\n",
    "from scipy.spatial.distance import cdist"
   ]
  },
  {
   "cell_type": "code",
   "execution_count": 216,
   "metadata": {},
   "outputs": [],
   "source": [
    "def calculate_permanova(array, labels_int):\n",
    "    if isinstance(array, pd.DataFrame):\n",
    "        array = array.values\n",
    "        distance_matrix = DistanceMatrix(cdist(array, array), ids=list(bt.ids(axis='sample')))\n",
    "    elif isinstance(array, np.ndarray):\n",
    "        distance_matrix = DistanceMatrix(cdist(array, array), ids=list(bt.ids(axis='sample')))\n",
    "    \n",
    "    return permanova(distance_matrix, labels_int, permutations=999)['test statistic']"
   ]
  },
  {
   "cell_type": "code",
   "execution_count": 243,
   "metadata": {},
   "outputs": [
    {
     "data": {
      "text/plain": [
       "65.78419440036852"
      ]
     },
     "execution_count": 243,
     "metadata": {},
     "output_type": "execute_result"
    }
   ],
   "source": [
    "permanova_abundance = permanova(DistanceMatrix(distance_abundance_3d), labels_int, permutations=999)['test statistic']\n",
    "permanova_abundance"
   ]
  },
  {
   "cell_type": "code",
   "execution_count": 244,
   "metadata": {},
   "outputs": [
    {
     "data": {
      "text/plain": [
       "114.49750257035998"
      ]
     },
     "execution_count": 244,
     "metadata": {},
     "output_type": "execute_result"
    }
   ],
   "source": [
    "permanova_phylo_RPCA= permanova(DistanceMatrix(distance_phyloRPCA_3d), labels_int, permutations=999)['test statistic']\n",
    "permanova_phylo_RPCA"
   ]
  },
  {
   "cell_type": "code",
   "execution_count": 246,
   "metadata": {},
   "outputs": [
    {
     "data": {
      "text/plain": [
       "194.29112945773505"
      ]
     },
     "execution_count": 246,
     "metadata": {},
     "output_type": "execute_result"
    }
   ],
   "source": [
    "permanova_merged_feature = calculate_permanova(sample_merged_feature_2d, labels_int)\n",
    "permanova_merged_feature"
   ]
  },
  {
   "cell_type": "code",
   "execution_count": 247,
   "metadata": {},
   "outputs": [
    {
     "data": {
      "image/png": "[encoded data removed]",
      "text/plain": [
       "<Figure size 640x480 with 1 Axes>"
      ]
     },
     "metadata": {},
     "output_type": "display_data"
    }
   ],
   "source": [
    "plot_bar({'Fused features':calculate_permanova(sample_merged_feature_2d, labels_int), \n",
    "    'Phylo-RPCA':permanova_phylo_RPCA,\n",
    "    'RPCA':permanova_abundance,\n",
    "    }, \n",
    "    colors=[(175,128,213),(234,207,245),(111,156,185),], rotate=45, title=None, xlabel=None, ylabel='Permanova: F-statistic', label_offset=0) #(64,154,103),(235,140,52),(246,227,86)"
   ]
  },
  {
   "cell_type": "markdown",
   "metadata": {},
   "source": [
    "## KNN PR-AUC指标"
   ]
  },
  {
   "cell_type": "code",
   "execution_count": 248,
   "metadata": {},
   "outputs": [],
   "source": [
    "results_all = get_metrics_auc_aps({\n",
    "    'Fused features': sample_merged_feature_2d,\n",
    "    'Phylo-RPCA': sample_loading_phyloRPCA_3d,\n",
    "    'RPCA': sample_loading_abundance_3d,}, labels_int)"
   ]
  },
  {
   "cell_type": "code",
   "execution_count": 249,
   "metadata": {},
   "outputs": [
    {
     "data": {
      "image/png": "[encoded data removed]",
      "text/plain": [
       "<Figure size 640x480 with 1 Axes>"
      ]
     },
     "metadata": {},
     "output_type": "display_data"
    }
   ],
   "source": [
    "plot_box(results_all,'auprc', \n",
    "         colors=[(175,128,213),(234,207,245),(111,156,185),(64,154,103),(235,140,52),(246,227,86)], \n",
    "         rotate=45, title=None, xlabel=None, ylabel='AUPRC', label_offset=0.03)"
   ]
  },
  {
   "cell_type": "code",
   "execution_count": 250,
   "metadata": {},
   "outputs": [
    {
     "data": {
      "image/png": "[encoded data removed]",
      "text/plain": [
       "<Figure size 640x480 with 1 Axes>"
      ]
     },
     "metadata": {},
     "output_type": "display_data"
    }
   ],
   "source": [
    "plot_box(results_all,'aps', \n",
    "         colors=[(175,128,213),(234,207,245),(111,156,185),(64,154,103),(235,140,52),(246,227,86)], \n",
    "         rotate=45, title=None, xlabel=None, ylabel='APS', label_offset=0.03)"
   ]
  },
  {
   "cell_type": "code",
   "execution_count": 251,
   "metadata": {},
   "outputs": [],
   "source": [
    "results_cluster, visulize_info = unsupervised_clustering({\n",
    "    'Fused features': sample_merged_feature_2d,\n",
    "    'Phylo-RPCA': sample_loading_phyloRPCA_3d,\n",
    "    'RPCA': sample_loading_abundance_3d,\n",
    "}, labels_int)"
   ]
  },
  {
   "cell_type": "code",
   "execution_count": 252,
   "metadata": {},
   "outputs": [
    {
     "data": {
      "image/png": "[encoded data removed]",
      "text/plain": [
       "<Figure size 640x480 with 1 Axes>"
      ]
     },
     "metadata": {},
     "output_type": "display_data"
    }
   ],
   "source": [
    "plot_bar({'Fused features':results_cluster['Fused features']['adjusted_rand_score'], \n",
    "    'Phylo-RPCA':results_cluster['Phylo-RPCA']['adjusted_rand_score'],\n",
    "    'RPCA':results_cluster['RPCA']['adjusted_rand_score'],}, \n",
    "    colors=[(175,128,213),(234,207,245),(111,156,185),(64,154,103),(235,140,52),(246,227,86)], rotate=45, title=None, xlabel=None, ylabel='adjusted_rand_score', label_offset=0)"
   ]
  },
  {
   "cell_type": "code",
   "execution_count": 253,
   "metadata": {},
   "outputs": [
    {
     "data": {
      "image/png": "[encoded data removed]",
      "text/plain": [
       "<Figure size 640x480 with 1 Axes>"
      ]
     },
     "metadata": {},
     "output_type": "display_data"
    }
   ],
   "source": [
    "plot_bar({'Fused features':results_cluster['Fused features']['silhouette_score'], \n",
    "    'Phylo-RPCA':results_cluster['Phylo-RPCA']['silhouette_score'],\n",
    "    'RPCA':results_cluster['RPCA']['silhouette_score']}, \n",
    "    colors=[(175,128,213),(234,207,245),(111,156,185),(64,154,103),(235,140,52),(246,227,86)], rotate=45, title=None, xlabel=None, ylabel='silhouette_score', label_offset=0)"
   ]
  },
  {
   "cell_type": "code",
   "execution_count": 254,
   "metadata": {},
   "outputs": [
    {
     "data": {
      "image/png": "[encoded data removed]",
      "text/plain": [
       "<Figure size 640x480 with 1 Axes>"
      ]
     },
     "metadata": {},
     "output_type": "display_data"
    }
   ],
   "source": [
    "plot_bar({'Fused features':results_cluster['Fused features']['completeness_score'], \n",
    "    'Phylo-RPCA':results_cluster['Phylo-RPCA']['completeness_score'],\n",
    "    'RPCA':results_cluster['RPCA']['completeness_score']}, \n",
    "    colors=[(175,128,213),(234,207,245),(111,156,185),(64,154,103),(235,140,52),(246,227,86)], rotate=45, title=None, xlabel=None, ylabel='completeness_score', label_offset=0)"
   ]
  },
  {
   "cell_type": "code",
   "execution_count": 255,
   "metadata": {},
   "outputs": [
    {
     "data": {
      "image/png": "[encoded data removed]",
      "text/plain": [
       "<Figure size 640x480 with 1 Axes>"
      ]
     },
     "metadata": {},
     "output_type": "display_data"
    }
   ],
   "source": [
    "plot_bar({'Fused features':results_cluster['Fused features']['homogeneity_score'], \n",
    "    'Phylo-RPCA':results_cluster['Phylo-RPCA']['homogeneity_score'],\n",
    "    'RPCA':results_cluster['RPCA']['homogeneity_score']}, \n",
    "    colors=[(175,128,213),(234,207,245),(111,156,185),(64,154,103),(235,140,52),(246,227,86)], rotate=45, title=None, xlabel=None, ylabel='homogeneity_score', label_offset=0)"
   ]
  },
  {
   "cell_type": "code",
   "execution_count": null,
   "metadata": {},
   "outputs": [
    {
     "data": {
      "text/plain": [
       "{'abundance+pca+reduced+concat': {'adjusted_rand_score': 0.7202318620792704,\n",
       "  'silhouette_score': 0.5979830882256415,\n",
       "  'completeness_score': 0.7606305797041263,\n",
       "  'homogeneity_score': 0.7174211496904942},\n",
       " 'abundance+phy2vec+reduced+concat': {'adjusted_rand_score': 0.5517407074128772,\n",
       "  'silhouette_score': 0.5536157954039016,\n",
       "  'completeness_score': 0.5727227872807986,\n",
       "  'homogeneity_score': 0.5453666923234245},\n",
       " 'phylo-RPCA': {'adjusted_rand_score': 0.6124820650336543,\n",
       "  'silhouette_score': 0.43672434663303417,\n",
       "  'completeness_score': 0.6226156217487177,\n",
       "  'homogeneity_score': 0.6171152034173997},\n",
       " 'abundance': {'adjusted_rand_score': 0.09099778281443131,\n",
       "  'silhouette_score': 0.048604844767618345,\n",
       "  'completeness_score': 0.15778927300840964,\n",
       "  'homogeneity_score': 0.13202367109208685},\n",
       " 'abundance+pca+concat': {'adjusted_rand_score': 0.4431076494088572,\n",
       "  'silhouette_score': 0.3159431684734176,\n",
       "  'completeness_score': 0.5096598690498892,\n",
       "  'homogeneity_score': 0.5119931678600467},\n",
       " 'abundance+phy2vec+concat': {'adjusted_rand_score': 0.2426103750123273,\n",
       "  'silhouette_score': 0.30058080816821403,\n",
       "  'completeness_score': 0.33724269759117687,\n",
       "  'homogeneity_score': 0.3309817681307628}}"
      ]
     },
     "execution_count": 132,
     "metadata": {},
     "output_type": "execute_result"
    }
   ],
   "source": [
    "results_cluster"
   ]
  },
  {
   "cell_type": "code",
   "execution_count": null,
   "metadata": {},
   "outputs": [],
   "source": []
  }
 ],
 "metadata": {
  "kernelspec": {
   "display_name": "qiime2-2022.2",
   "language": "python",
   "name": "python3"
  },
  "language_info": {
   "codemirror_mode": {
    "name": "ipython",
    "version": 3
   },
   "file_extension": ".py",
   "mimetype": "text/x-python",
   "name": "python",
   "nbconvert_exporter": "python",
   "pygments_lexer": "ipython3",
   "version": "3.8.18"
  }
 },
 "nbformat": 4,
 "nbformat_minor": 2
}
